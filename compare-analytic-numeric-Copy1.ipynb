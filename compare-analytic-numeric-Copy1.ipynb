{
 "cells": [
  {
   "cell_type": "markdown",
   "metadata": {},
   "source": [
    "We've been trying to use the analytical (Buckley-Leverett) solution of the two-phase flow in porous media to fit the Corey-type relative permeability model to the experimental oil recovery data. In this post, I'm going to compare the numerical solution of the same model with the analytical results. You can find the codes that I have written in [this github repository](https://github.com/simulkade/peteng). Here, I only call the codes and compare the results."
   ]
  },
  {
   "cell_type": "code",
   "execution_count": 2,
   "metadata": {},
   "outputs": [
    {
     "data": {
      "text/plain": [
       "0"
      ]
     },
     "execution_count": 2,
     "metadata": {},
     "output_type": "execute_result"
    }
   ],
   "source": [
    "# load the input parameters and the functions\n",
    "using Roots, PyPlot, Dierckx, JFVM\n",
    "import JSON, JLD\n",
    "include(\"rel_perms.jl\")\n",
    "include(\"forced_imbibition_corey.jl\")\n",
    "include(\"frac_flow_funcs.jl\")\n",
    "IJulia.clear_output()"
   ]
  },
  {
   "cell_type": "markdown",
   "metadata": {},
   "source": [
    "The input parameters are stored in the `input_params_BL.jld` file, that can be loaded by"
   ]
  },
  {
   "cell_type": "code",
   "execution_count": 11,
   "metadata": {},
   "outputs": [
    {
     "data": {
      "text/plain": [
       "14-element Array{Symbol,1}:\n",
       " :L_core  \n",
       " :kro0    \n",
       " :krw0    \n",
       " :mu_oil  \n",
       " :mu_water\n",
       " :no      \n",
       " :nw      \n",
       " :perm_ave\n",
       " :poros   \n",
       " :pv_inj  \n",
       " :sor     \n",
       " :swc     \n",
       " :swi     \n",
       " :u_inj   "
      ]
     },
     "execution_count": 11,
     "metadata": {},
     "output_type": "execute_result"
    }
   ],
   "source": [
    "JLD.@load \"results/input_params_BL.jld\""
   ]
  },
  {
   "cell_type": "markdown",
   "metadata": {},
   "source": [
    "Now we can run the functions for the analytical and numerical solutions:"
   ]
  },
  {
   "cell_type": "code",
   "execution_count": 12,
   "metadata": {},
   "outputs": [
    {
     "name": "stdout",
     "output_type": "stream",
     "text": [
      "progress is 0.0 %\u001b[1Gprogress is 0.04902159180605293 %\u001b[1Gprogress is 0.09804318361210586 %\u001b[1Gprogress is 0.14754878842302446 %\u001b[1Gprogress is 0.1999434585578175 %\u001b[1Gprogress is 0.26029935386822073 %\u001b[1Gprogress is 0.3362854229718309 %\u001b[1Gprogress is 0.4147264505493329 %\u001b[1Gprogress is 0.4931674781268349 %\u001b[1Gprogress is 0.5730882851328756 %\u001b[1Gprogress is 0.6718348489753654 %\u001b[1Gprogress is 0.7587253158873429 %\u001b[1Gprogress is 0.8456157827993206 %\u001b[1Gprogress is 0.9372159594360676 %\u001b[1Gprogress is 1.042687576042445 %\u001b[1Gprogress is 1.1337826701199794 %\u001b[1Gprogress is 1.2248777641975137 %\u001b[1Gprogress is 1.3276546851800994 %\u001b[1Gprogress is 1.4277299695585555 %\u001b[1Gprogress is 1.5232716145841798 %\u001b[1Gprogress is 1.6188132596098044 %\u001b[1Gprogress is 1.7351876228180618 %\u001b[1Gprogress is 1.8315336045470723 %\u001b[1Gprogress is 1.9278795862760827 %\u001b[1Gprogress is 2.030556084065056 %\u001b[1Gprogress is 2.13997025810544 %\u001b[1Gprogress is 2.237735235355564 %\u001b[1Gprogress is 2.3355002126056887 %\u001b[1Gprogress is 2.44967369435109 %\u001b[1Gprogress is 2.5508589893818696 %\u001b[1Gprogress is 2.6520442844126486 %\u001b[1Gprogress is 2.754253471217127 %\u001b[1Gprogress is 2.871669367627069 %\u001b[1Gprogress is 2.970805495954937 %\u001b[1Gprogress is 3.0699416242828055 %\u001b[1Gprogress is 3.182345783376265 %\u001b[1Gprogress is 3.287465947193872 %\u001b[1Gprogress is 3.3897092598159864 %\u001b[1Gprogress is 3.491952572438101 %\u001b[1Gprogress is 3.616154636902291 %\u001b[1Gprogress is 3.7161861962275164 %\u001b[1Gprogress is 3.816217755552743 %\u001b[1Gprogress is 3.9274860773293923 %\u001b[1Gprogress is 4.035577096950044 %\u001b[1Gprogress is 4.138051047134175 %\u001b[1Gprogress is 4.240524997318305 %\u001b[1Gprogress is 4.366871157921957 %\u001b[1Gprogress is 4.467828891437271 %\u001b[1Gprogress is 4.568786624952584 %\u001b[1Gprogress is 4.679135214254303 %\u001b[1Gprogress is 4.789819352336412 %\u001b[1Gprogress is 4.892509328338957 %\u001b[1Gprogress is 4.9951993043415035 %\u001b[1Gprogress is 5.119854821630378 %\u001b[1Gprogress is 5.222041710534215 %\u001b[1Gprogress is 5.324228599438053 %\u001b[1Gprogress is 5.433585486134584 %\u001b[1Gprogress is 5.547036805125572 %\u001b[1Gprogress is 5.649862825139103 %\u001b[1Gprogress is 5.752688845152635 %\u001b[1Gprogress is 5.875523122584231 %\u001b[1Gprogress is 5.979014887038821 %\u001b[1Gprogress is 6.082506651493412 %\u001b[1Gprogress is 6.190920271049504 %\u001b[1Gprogress is 6.307154768068923 %\u001b[1Gprogress is 6.410078069992682 %\u001b[1Gprogress is 6.513001371916443 %\u001b[1Gprogress is 6.634136668086361 %\u001b[1Gprogress is 6.738943833495126 %\u001b[1Gprogress is 6.84375099890389 %\u001b[1Gprogress is 6.951401420719279 %\u001b[1Gprogress is 7.0702147474923445 %\u001b[1Gprogress is 7.173227490939421 %\u001b[1Gprogress is 7.276240234386499 %\u001b[1Gprogress is 7.395990613923793 %\u001b[1Gprogress is 7.502008058147664 %\u001b[1Gprogress is 7.608025502371533 %\u001b[1Gprogress is 7.7151453481420385 %\u001b[1Gprogress is 7.836123100162038 %\u001b[1Gprogress is 7.939228876568283 %\u001b[1Gprogress is 8.042334652974525 %\u001b[1Gprogress is 8.161091047750904 %\u001b[1Gprogress is 8.268113189353246 %\u001b[1Gprogress is 8.374919075846796 %\u001b[1Gprogress is 8.481724962340346 %\u001b[1Gprogress is 8.604433759885755 %\u001b[1Gprogress is 8.707638025810105 %\u001b[1Gprogress is 8.810842291734456 %\u001b[1Gprogress is 8.928935463455026 %\u001b[1Gprogress is 9.036744133123118 %\u001b[1Gprogress is 9.14338873152086 %\u001b[1Gprogress is 9.250033329918601 %\u001b[1Gprogress is 9.374319797553772 %\u001b[1Gprogress is 9.477621308828008 %\u001b[1Gprogress is 9.580922820102245 %\u001b[1Gprogress is 9.698495757183753 %\u001b[1Gprogress is 9.806977976673227 %\u001b[1Gprogress is 9.913518258348782 %\u001b[1Gprogress is 10.020058540024339 %\u001b[1Gprogress is 10.145653277832842 %\u001b[1Gprogress is 10.249042796533608 %\u001b[1Gprogress is 10.352432315234372 %\u001b[1Gprogress is 10.469625190978931 %\u001b[1Gprogress is 10.57865736165949 %\u001b[1Gprogress is 10.685143878692093 %\u001b[1Gprogress is 10.791630395724699 %\u001b[1Gprogress is 10.918256721430458 %\u001b[1Gprogress is 11.021728898175459 %\u001b[1Gprogress is 11.125201074920458 %\u001b[1Gprogress is 11.242142505430538 %\u001b[1Gprogress is 11.351604669483034 %\u001b[1Gprogress is 11.458080125152582 %\u001b[1Gprogress is 11.564555580822129 %\u001b[1Gprogress is 11.691954197158742 %\u001b[1Gprogress is 11.795506480677515 %\u001b[1Gprogress is 11.899058764196289 %\u001b[1Gprogress is 12.015859546182952 %\u001b[1Gprogress is 12.12564359149502 %\u001b[1Gprogress is 12.232142357060882 %\u001b[1Gprogress is 12.338641122626745 %\u001b[1Gprogress is 12.46658447428498 %\u001b[1Gprogress is 12.570215822171788 %\u001b[1Gprogress is 12.673847170058592 %\u001b[1Gprogress is 12.790598379473582 %\u001b[1Gprogress is 12.900611989891111 %\u001b[1Gprogress is 13.007160744276511 %\u001b[1Gprogress is 13.11370949866191 %\u001b[1Gprogress is 13.242007275597329 %\u001b[1Gprogress is 13.345717182660291 %\u001b[1Gprogress is 13.449427089723255 %\u001b[1Gprogress is 13.566201046618747 %\u001b[1Gprogress is 13.676368410134298 %\u001b[1Gprogress is 13.78298728791663 %\u001b[1Gprogress is 13.889606165698961 %\u001b[1Gprogress is 14.018104660081496 %\u001b[1Gprogress is 14.121892569989097 %\u001b[1Gprogress is 14.225680479896695 %\u001b[1Gprogress is 14.342533158031253 %\u001b[1Gprogress is 14.452793703189077 %\u001b[1Gprogress is 14.559497553428944 %\u001b[1Gprogress is 14.666201403668811 %\u001b[1Gprogress is 14.794779496661764 %\u001b[1Gprogress is 14.898644527424173 %\u001b[1Gprogress is 15.002509558186587 %\u001b[1Gprogress is 15.119483464994365 %\u001b[1Gprogress is 15.22978968709694 %\u001b[1Gprogress is 15.336589242395931 %\u001b[1Gprogress is 15.443388797694924 %\u001b[1Gprogress is 15.571952644205542 %\u001b[1Gprogress is 15.675893520565145 %\u001b[1Gprogress is 15.77983439692475 %\u001b[1Gprogress is 15.896961369655715 %\u001b[1Gprogress is 16.007276442521924 %\u001b[1Gprogress is 16.114179318774276 %\u001b[1Gprogress is 16.221082195026632 %\u001b[1Gprogress is 16.349559854662573 %\u001b[1Gprogress is 16.45357495323116 %\u001b[1Gprogress is 16.557590051799753 %\u001b[1Gprogress is 16.67489371305613 %\u001b[1Gprogress is 16.785189260682895 %\u001b[1Gprogress is 16.892200772523037 %\u001b[1Gprogress is 16.99921228436318 %\u001b[1Gprogress is 17.12754891371311 %\u001b[1Gprogress is 17.23163635575545 %\u001b[1Gprogress is 17.33572379779779 %\u001b[1Gprogress is 17.453221592214923 %\u001b[1Gprogress is 17.56347577721557 %\u001b[1Gprogress is 17.67059958439275 %\u001b[1Gprogress is 17.77772339156994 %\u001b[1Gprogress is 17.90587721509653 %\u001b[1Gprogress is 18.01003496900092 %\u001b[1Gprogress is 18.114192722905308 %\u001b[1Gprogress is 18.23189754946056 %\u001b[1Gprogress is 18.342093511053033 %\u001b[1Gprogress is 18.449332122335104 %\u001b[1Gprogress is 18.556570733617182 %\u001b[1Gprogress is 18.68450979697688 %\u001b[1Gprogress is 18.788735771782374 %\u001b[1Gprogress is 18.89296174658787 %\u001b[1Gprogress is 19.010883240886148 %\u001b[1Gprogress is 19.17848707646856 %\u001b[1Gprogress is 19.45675834693609 %\u001b[1Gprogress is 20.017042734731838 %\u001b[1Gprogress is 21.449917209818047 %\u001b[1Gprogress is 25.42247718684315 %\u001b[1Gprogress is 33.48575663348616 %\u001b[1Gprogress is 34.45472879482241 %\u001b[1Gprogress is 35.10209850916135 %\u001b[1Gprogress is 35.749468223500294 %\u001b[1Gprogress is 45.4600139385844 %\u001b[1Gprogress is 47.18323478120301 %\u001b[1Gprogress is 48.906455623821614 %\u001b[1Gprogress is 53.83736645209365 %\u001b[1Gprogress is 57.726908421839816 %\u001b[1Gprogress is 59.707515392597834 %\u001b[1Gprogress is 61.688122363355845 %\u001b[1Gprogress is 71.0325522969682 %\u001b[1Gprogress is 72.67065558887175 %\u001b[1Gprogress is 74.30875888077529 %\u001b[1Gprogress is 78.90042495112517 %\u001b[1Gprogress is 94.4873280825665 %\u001b[1Gprogress is 98.71372601579192 %\u001b[1G"
     ]
    },
    {
     "ename": "LoadError",
     "evalue": "ArgumentError: The interval [a,b] is not a bracketing interval.\nYou need f(a) and f(b) to have different signs (f(a) * f(b) < 0).\nConsider a different bracket or try fzero(f, c) with an initial guess c.\n\n",
     "output_type": "error",
     "traceback": [
      "ArgumentError: The interval [a,b] is not a bracketing interval.\nYou need f(a) and f(b) to have different signs (f(a) * f(b) < 0).\nConsider a different bracket or try fzero(f, c) with an initial guess c.\n\n",
      "",
      " in bisection64(::#f_shock#27{Float64,#fw#23{Float64,Float64,##15#19{Float64,Float64,Float64,Float64},##16#20{Float64,Float64,Float64,Float64}},#dfw#24{Float64,Float64,##15#19{Float64,Float64,Float64,Float64},##16#20{Float64,Float64,Float64,Float64},##17#21{Float64,Float64,Float64,Float64},##18#22{Float64,Float64,Float64,Float64}}}, ::Float64, ::Float64) at /home/ehsan/.julia/v0.5/Roots/src/bracketing.jl:93",
      " in #find_zero#12(::Int64, ::Bool, ::Array{Any,1}, ::Function, ::#f_shock#27{Float64,#fw#23{Float64,Float64,##15#19{Float64,Float64,Float64,Float64},##16#20{Float64,Float64,Float64,Float64}},#dfw#24{Float64,Float64,##15#19{Float64,Float64,Float64,Float64},##16#20{Float64,Float64,Float64,Float64},##17#21{Float64,Float64,Float64,Float64},##18#22{Float64,Float64,Float64,Float64}}}, ::Array{Float64,1}, ::Roots.Bisection) at /home/ehsan/.julia/v0.5/Roots/src/bracketing.jl:138",
      " in #fzero#26(::Array{Any,1}, ::Function, ::Function, ::Float64, ::Float64) at /home/ehsan/.julia/v0.5/Roots/src/Roots.jl:98",
      " in #fzero#27(::Array{Any,1}, ::Function, ::Function, ::Array{Float64,1}) at /home/ehsan/.julia/v0.5/Roots/src/Roots.jl:105",
      " in #frac_flow_wf#14(::Float64, ::Float64, ::Float64, ::Float64, ::Float64, ::Float64, ::Float64, ::Float64, ::Float64, ::Float64, ::Float64, ::Float64, ::Float64, ::Float64, ::Float64, ::#frac_flow_wf) at /home/ehsan/projects/peteng/frac_flow_funcs.jl:66",
      " in (::#kw##frac_flow_wf)(::Array{Any,1}, ::#frac_flow_wf) at ./<missing>:0"
     ]
    }
   ],
   "source": [
    "# call the functions\n",
    "# numerical solution (finite volume)\n",
    "(t_num, R_num, sw_prf)=forced_imb_impes(mu_water, mu_oil, u_inj, \n",
    "    poros, perm_ave, swc, sor, kro0, no,\n",
    "    krw0,nw, swi, 1.0, L_core, pv_inj, Nx=50)\n",
    "\n",
    "# Analytical solution (BL)\n",
    "(xt_shock, sw_shock, xt_prf, sw_prf, t_anal, p_inj, R_anal) = frac_flow_wf(\n",
    "  muw=mu_water, muo=mu_oil, ut=u_inj, phi=poros,\n",
    "  k=perm_ave, swc=swc, sor=sor, kro0=kro0, no=no, \n",
    "  krw0=krw0, nw=nw, sw0=swi, sw_inj=1.0, L=L_core, pv_inj=pv_inj)\n",
    "IJulia.clear_output() # only to clear the output from the previous function"
   ]
  },
  {
   "cell_type": "markdown",
   "metadata": {},
   "source": [
    "Now, we can plot the results and compare the solutions:"
   ]
  },
  {
   "cell_type": "code",
   "execution_count": 14,
   "metadata": {},
   "outputs": [
    {
     "ename": "LoadError",
     "evalue": "UndefVarError: t_anal not defined",
     "output_type": "error",
     "traceback": [
      "UndefVarError: t_anal not defined",
      ""
     ]
    }
   ],
   "source": [
    "plot(t_anal, R_anal, \"o\", t_num, R_num)\n",
    "xlabel(\"time [s]\")\n",
    "ylabel(\"Recovery factor [-]\")\n",
    "IJulia.clear_output()"
   ]
  },
  {
   "cell_type": "markdown",
   "metadata": {},
   "source": [
    "It seems that the match very well. But if we zoom on the recovery plot close to the water breakthrough time,"
   ]
  },
  {
   "cell_type": "code",
   "execution_count": 13,
   "metadata": {},
   "outputs": [
    {
     "ename": "LoadError",
     "evalue": "UndefVarError: t_anal not defined",
     "output_type": "error",
     "traceback": [
      "UndefVarError: t_anal not defined",
      ""
     ]
    }
   ],
   "source": [
    "plot(t_anal, R_anal, \"o\", t_num, R_num)\n",
    "xlabel(\"time [s]\")\n",
    "ylabel(\"Recovery factor [-]\")\n",
    "axis([25000, 50000, 0.40, 0.5])\n",
    "IJulia.clear_output()"
   ]
  },
  {
   "cell_type": "markdown",
   "metadata": {},
   "source": [
    "we can see that there is roughly 1 percent underestimation of the recovery factor by the numerical method. One reason is the numerical diffusion in the upwind scheme that I have used in my numerical solution. With this diffusion, the front is not sharp anymore and the water breakthrough (decrease in the slope of the recovery curve from the linear trend) happens a bit earlier in time. Let's test it by plotting the saturation profiles:"
   ]
  },
  {
   "cell_type": "code",
   "execution_count": 15,
   "metadata": {},
   "outputs": [
    {
     "name": "stdout",
     "output_type": "stream",
     "text": [
      "progress is 0.0 %\u001b[1Gprogress is 0.33334682428115986 %\u001b[1Gprogress is 0.6666936485623197 %\u001b[1Gprogress is 1.0033317612765662 %\u001b[1Gprogress is 1.3596155181931588 %\u001b[1Gprogress is 1.7700356063039009 %\u001b[1Gprogress is 2.2867408762084493 %\u001b[1Gprogress is 2.8201398637354633 %\u001b[1Gprogress is 3.353538851262477 %\u001b[1Gprogress is 3.897000338903553 %\u001b[1Gprogress is 4.568476973032484 %\u001b[1Gprogress is 5.159332148033932 %\u001b[1Gprogress is 5.750187323035378 %\u001b[1Gprogress is 6.37306852416526 %\u001b[1Gprogress is 7.0902755170886245 %\u001b[1Gprogress is 7.709722156815858 %\u001b[1Gprogress is 8.329168796543092 %\u001b[1Gprogress is 9.028051859224675 %\u001b[1Gprogress is 9.708563792998175 %\u001b[1Gprogress is 10.358246979172423 %\u001b[1Gprogress is 11.007930165346668 %\u001b[1Gprogress is 11.79927583516282 %\u001b[1Gprogress is 12.45442851092009 %\u001b[1Gprogress is 13.10958118667736 %\u001b[1Gprogress is 13.807781371642378 %\u001b[1Gprogress is 14.551797755116988 %\u001b[1Gprogress is 15.216599600417835 %\u001b[1Gprogress is 15.881401445718682 %\u001b[1Gprogress is 16.657781121587412 %\u001b[1Gprogress is 17.34584112779671 %\u001b[1Gprogress is 18.033901134006005 %\u001b[1Gprogress is 18.72892360427646 %\u001b[1Gprogress is 19.527351699864067 %\u001b[1Gprogress is 20.20147737249357 %\u001b[1Gprogress is 20.87560304512307 %\u001b[1Gprogress is 21.6399513269586 %\u001b[1Gprogress is 22.354768440918324 %\u001b[1Gprogress is 23.050022966748703 %\u001b[1Gprogress is 23.74527749257908 %\u001b[1Gprogress is 24.589851530935576 %\u001b[1Gprogress is 25.270066134347115 %\u001b[1Gprogress is 25.950280737758646 %\u001b[1Gprogress is 26.706905325839863 %\u001b[1Gprogress is 27.441924259260297 %\u001b[1Gprogress is 28.138747120512384 %\u001b[1Gprogress is 28.835569981764476 %\u001b[1Gprogress is 29.694723873869304 %\u001b[1Gprogress is 30.381236461773437 %\u001b[1Gprogress is 31.067749049677563 %\u001b[1Gprogress is 31.818119456929256 %\u001b[1Gprogress is 32.5707715958876 %\u001b[1Gprogress is 33.269063432704904 %\u001b[1Gprogress is 33.96735526952222 %\u001b[1Gprogress is 34.815012787086566 %\u001b[1Gprogress is 35.50988363163266 %\u001b[1Gprogress is 36.20475447617875 %\u001b[1Gprogress is 36.948381305715166 %\u001b[1Gprogress is 37.71985027485388 %\u001b[1Gprogress is 38.4190672109459 %\u001b[1Gprogress is 39.11828414703791 %\u001b[1Gprogress is 39.95355723357276 %\u001b[1Gprogress is 40.65730123186398 %\u001b[1Gprogress is 41.3610452301552 %\u001b[1Gprogress is 42.09825784313662 %\u001b[1Gprogress is 42.88865242286867 %\u001b[1Gprogress is 43.58853087595023 %\u001b[1Gprogress is 44.28840932903179 %\u001b[1Gprogress is 45.11212934298725 %\u001b[1Gprogress is 45.82481806776685 %\u001b[1Gprogress is 46.537506792546445 %\u001b[1Gprogress is 47.26952966089109 %\u001b[1Gprogress is 48.07746028294793 %\u001b[1Gprogress is 48.77794693838806 %\u001b[1Gprogress is 49.478433593828186 %\u001b[1Gprogress is 50.29273617468179 %\u001b[1Gprogress is 51.01365479540411 %\u001b[1Gprogress is 51.734573416126416 %\u001b[1Gprogress is 52.462988367365845 %\u001b[1Gprogress is 53.285637081101854 %\u001b[1Gprogress is 53.98675636066431 %\u001b[1Gprogress is 54.68787564022677 %\u001b[1Gprogress is 55.495419124706146 %\u001b[1Gprogress is 56.22316968760206 %\u001b[1Gprogress is 56.949449715758206 %\u001b[1Gprogress is 57.67572974391435 %\u001b[1Gprogress is 58.510149567223124 %\u001b[1Gprogress is 59.211938575508704 %\u001b[1Gprogress is 59.913727583794284 %\u001b[1Gprogress is 60.71676115149417 %\u001b[1Gprogress is 61.4498601052372 %\u001b[1Gprogress is 62.17504337434184 %\u001b[1Gprogress is 62.90022664344649 %\u001b[1Gprogress is 63.745374623365635 %\u001b[1Gprogress is 64.44782490003045 %\u001b[1Gprogress is 65.15027517669525 %\u001b[1Gprogress is 65.9497711488495 %\u001b[1Gprogress is 66.68745024137795 %\u001b[1Gprogress is 67.41192415677172 %\u001b[1Gprogress is 68.13639807216549 %\u001b[1Gprogress is 68.99044228926333 %\u001b[1Gprogress is 69.69349101642852 %\u001b[1Gprogress is 70.39653974359372 %\u001b[1Gprogress is 71.19345129865673 %\u001b[1Gprogress is 71.93487005928452 %\u001b[1Gprogress is 72.65897837510623 %\u001b[1Gprogress is 73.38308669092794 %\u001b[1Gprogress is 74.2441457057271 %\u001b[1Gprogress is 74.94775650759311 %\u001b[1Gprogress is 75.6513673094591 %\u001b[1Gprogress is 76.44656903692764 %\u001b[1Gprogress is 77.19091175248462 %\u001b[1Gprogress is 77.91494485103755 %\u001b[1Gprogress is 78.63897794959047 %\u001b[1Gprogress is 79.50528854067943 %\u001b[1Gprogress is 80.2094440686071 %\u001b[1Gprogress is 80.91359959653475 %\u001b[1Gprogress is 81.70784491404406 %\u001b[1Gprogress is 82.45437642216613 %\u001b[1Gprogress is 83.17856802801398 %\u001b[1Gprogress is 83.90275963386186 %\u001b[1Gprogress is 84.77277442513787 %\u001b[1Gprogress is 85.47746759076814 %\u001b[1Gprogress is 86.18216075639842 %\u001b[1Gprogress is 86.97606898042035 %\u001b[1Gprogress is 87.72416153125954 %\u001b[1Gprogress is 88.44869306108025 %\u001b[1Gprogress is 89.17322459090097 %\u001b[1Gprogress is 90.04564947406182 %\u001b[1Gprogress is 90.75087684208995 %\u001b[1Gprogress is 91.4561042101181 %\u001b[1Gprogress is 92.25016711700746 %\u001b[1Gprogress is 92.99930518891321 %\u001b[1Gprogress is 93.72431355783307 %\u001b[1Gprogress is 94.44932192675293 %\u001b[1Gprogress is 95.32311168855415 %\u001b[1Gprogress is 96.02886947592583 %\u001b[1Gprogress is 96.73462726329753 %\u001b[1Gprogress is 97.5292254746125 %\u001b[1Gprogress is 98.2789971816857 %\u001b[1Gprogress is 99.0045833633168 %\u001b[1Gprogress is 99.73016954494788 %\u001b[1G"
     ]
    },
    {
     "ename": "LoadError",
     "evalue": "ArgumentError: The interval [a,b] is not a bracketing interval.\nYou need f(a) and f(b) to have different signs (f(a) * f(b) < 0).\nConsider a different bracket or try fzero(f, c) with an initial guess c.\n\n",
     "output_type": "error",
     "traceback": [
      "ArgumentError: The interval [a,b] is not a bracketing interval.\nYou need f(a) and f(b) to have different signs (f(a) * f(b) < 0).\nConsider a different bracket or try fzero(f, c) with an initial guess c.\n\n",
      "",
      " in bisection64(::#f_shock#27{Float64,#fw#23{Float64,Float64,##15#19{Float64,Float64,Float64,Float64},##16#20{Float64,Float64,Float64,Float64}},#dfw#24{Float64,Float64,##15#19{Float64,Float64,Float64,Float64},##16#20{Float64,Float64,Float64,Float64},##17#21{Float64,Float64,Float64,Float64},##18#22{Float64,Float64,Float64,Float64}}}, ::Float64, ::Float64) at /home/ehsan/.julia/v0.5/Roots/src/bracketing.jl:93",
      " in #find_zero#12(::Int64, ::Bool, ::Array{Any,1}, ::Function, ::#f_shock#27{Float64,#fw#23{Float64,Float64,##15#19{Float64,Float64,Float64,Float64},##16#20{Float64,Float64,Float64,Float64}},#dfw#24{Float64,Float64,##15#19{Float64,Float64,Float64,Float64},##16#20{Float64,Float64,Float64,Float64},##17#21{Float64,Float64,Float64,Float64},##18#22{Float64,Float64,Float64,Float64}}}, ::Array{Float64,1}, ::Roots.Bisection) at /home/ehsan/.julia/v0.5/Roots/src/bracketing.jl:138",
      " in #fzero#26(::Array{Any,1}, ::Function, ::Function, ::Float64, ::Float64) at /home/ehsan/.julia/v0.5/Roots/src/Roots.jl:98",
      " in #fzero#27(::Array{Any,1}, ::Function, ::Function, ::Array{Float64,1}) at /home/ehsan/.julia/v0.5/Roots/src/Roots.jl:105",
      " in #frac_flow_wf#14(::Float64, ::Float64, ::Float64, ::Float64, ::Float64, ::Float64, ::Float64, ::Float64, ::Float64, ::Float64, ::Float64, ::Float64, ::Float64, ::Float64, ::Float64, ::#frac_flow_wf) at /home/ehsan/projects/peteng/frac_flow_funcs.jl:66",
      " in (::#kw##frac_flow_wf)(::Array{Any,1}, ::#frac_flow_wf) at ./<missing>:0"
     ]
    }
   ],
   "source": [
    "pv_inj2 = 0.3\n",
    "(t_num, R_num, sw_prf_num)=forced_imb_impes(mu_water, mu_oil, u_inj, \n",
    "    poros, perm_ave, swc, sor, kro0, no,\n",
    "    krw0,nw, swi, 1.0, L_core, pv_inj2, Nx=50)\n",
    "\n",
    "# Analytical solution (BL)\n",
    "(xt_shock, sw_shock, xt_prf, sw_prf, t_anal, p_inj, R_anal) = frac_flow_wf(\n",
    "  muw=mu_water, muo=mu_oil, ut=u_inj, phi=poros,\n",
    "  k=perm_ave, swc=swc, sor=sor, kro0=kro0, no=no, \n",
    "  krw0=krw0, nw=nw, sw0=swi, sw_inj=1.0, L=L_core, pv_inj=pv_inj2)\n",
    "visualizeCells(sw_prf_num)\n",
    "plot(xt_prf*t_anal[end], sw_prf)\n",
    "axis([0, L_core, 0, 1.0])\n",
    "legend([\"Numerical\", \"Analytical\"])\n",
    "xlabel(\"Core length [m]\")\n",
    "ylabel(\"Water saturation [-]\")\n",
    "IJulia.clear_output() # only to clear the output from the previous function"
   ]
  },
  {
   "cell_type": "markdown",
   "metadata": {},
   "source": [
    "We can clearly see that the extra numerical diffusion causes the water front to move faster resulting in an earlier water breakthrough. We can decrease this diffusion by refining the grid:"
   ]
  },
  {
   "cell_type": "code",
   "execution_count": 16,
   "metadata": {},
   "outputs": [
    {
     "name": "stdout",
     "output_type": "stream",
     "text": [
      "progress is 0.0 %\u001b[1Gprogress is 0.03333468242805048 %\u001b[1Gprogress is 0.06666936485610096 %\u001b[1Gprogress is 0.10033317612746036 %\u001b[1Gprogress is 0.13596155181904163 %\u001b[1Gprogress is 0.17700356063005812 %\u001b[1Gprogress is 0.22867408762037472 %\u001b[1Gprogress is 0.28201398637304326 %\u001b[1Gprogress is 0.3353538851257118 %\u001b[1Gprogress is 0.38970003388923014 %\u001b[1Gprogress is 0.4568476973025844 %\u001b[1Gprogress is 0.515933214802749 %\u001b[1Gprogress is 0.5750187323029134 %\u001b[1Gprogress is 0.6373068524159919 %\u001b[1Gprogress is 0.7090275517085816 %\u001b[1Gprogress is 0.7709722156814034 %\u001b[1Gprogress is 0.8329168796542253 %\u001b[1Gprogress is 0.902805185922532 %\u001b[1Gprogress is 0.9708563792995408 %\u001b[1Gprogress is 1.0358246979173524 %\u001b[1Gprogress is 1.1007930165351645 %\u001b[1Gprogress is 1.1799275835166405 %\u001b[1Gprogress is 1.245442851092071 %\u001b[1Gprogress is 1.3109581186675014 %\u001b[1Gprogress is 1.3807781371636911 %\u001b[1Gprogress is 1.4551797755111426 %\u001b[1Gprogress is 1.5216599600408625 %\u001b[1Gprogress is 1.5881401445705823 %\u001b[1Gprogress is 1.665778112157749 %\u001b[1Gprogress is 1.7345841127786157 %\u001b[1Gprogress is 1.8033901133994827 %\u001b[1Gprogress is 1.872892360426158 %\u001b[1Gprogress is 1.9527351699851079 %\u001b[1Gprogress is 2.0201477372483256 %\u001b[1Gprogress is 2.0875603045115443 %\u001b[1Gprogress is 2.163995132695026 %\u001b[1Gprogress is 2.235476844090632 %\u001b[1Gprogress is 2.3050022966733046 %\u001b[1Gprogress is 2.3745277492559778 %\u001b[1Gprogress is 2.4589851530915547 %\u001b[1Gprogress is 2.527006613432828 %\u001b[1Gprogress is 2.595028073774102 %\u001b[1Gprogress is 2.670690532581762 %\u001b[1Gprogress is 2.744192425923335 %\u001b[1Gprogress is 2.813874712048208 %\u001b[1Gprogress is 2.8835569981730815 %\u001b[1Gprogress is 2.9694723873838393 %\u001b[1Gprogress is 3.0381236461740118 %\u001b[1Gprogress is 3.106774904964184 %\u001b[1Gprogress is 3.181811945689319 %\u001b[1Gprogress is 3.2570771595850037 %\u001b[1Gprogress is 3.3269063432671766 %\u001b[1Gprogress is 3.3967355269493495 %\u001b[1Gprogress is 3.481501278705549 %\u001b[1Gprogress is 3.5509883631603465 %\u001b[1Gprogress is 3.6204754476151444 %\u001b[1Gprogress is 3.694838130569323 %\u001b[1Gprogress is 3.771985027482853 %\u001b[1Gprogress is 3.8419067210923323 %\u001b[1Gprogress is 3.9118284147018123 %\u001b[1Gprogress is 3.9953557233553116 %\u001b[1Gprogress is 4.065730123184234 %\u001b[1Gprogress is 4.136104523013155 %\u001b[1Gprogress is 4.209825784311095 %\u001b[1Gprogress is 4.288865242283252 %\u001b[1Gprogress is 4.358853087591216 %\u001b[1Gprogress is 4.42884093289918 %\u001b[1Gprogress is 4.511212934295079 %\u001b[1Gprogress is 4.582481806772567 %\u001b[1Gprogress is 4.653750679250056 %\u001b[1Gprogress is 4.726952966084762 %\u001b[1Gprogress is 4.807746028290311 %\u001b[1Gprogress is 4.877794693834763 %\u001b[1Gprogress is 4.947843359379214 %\u001b[1Gprogress is 5.029273617464292 %\u001b[1Gprogress is 5.101365479536005 %\u001b[1Gprogress is 5.173457341607718 %\u001b[1Gprogress is 5.246298836731492 %\u001b[1Gprogress is 5.328563708104002 %\u001b[1Gprogress is 5.398675636060614 %\u001b[1Gprogress is 5.468787564017226 %\u001b[1Gprogress is 5.549541912466122 %\u001b[1Gprogress is 5.62231696875589 %\u001b[1Gprogress is 5.694944971571796 %\u001b[1Gprogress is 5.7675729743877024 %\u001b[1Gprogress is 5.851014956717702 %\u001b[1Gprogress is 5.921193857545748 %\u001b[1Gprogress is 5.991372758373793 %\u001b[1Gprogress is 6.07167611514415 %\u001b[1Gprogress is 6.14498601051806 %\u001b[1Gprogress is 6.217504337429168 %\u001b[1Gprogress is 6.290022664340277 %\u001b[1Gprogress is 6.374537462330906 %\u001b[1Gprogress is 6.444782489996978 %\u001b[1Gprogress is 6.515027517663049 %\u001b[1Gprogress is 6.594977114878853 %\u001b[1Gprogress is 6.668745024131859 %\u001b[1Gprogress is 6.741192415671003 %\u001b[1Gprogress is 6.813639807210146 %\u001b[1Gprogress is 6.899044228918698 %\u001b[1Gprogress is 6.969349101635258 %\u001b[1Gprogress is 7.039653974351818 %\u001b[1Gprogress is 7.119345129857578 %\u001b[1Gprogress is 7.193487005919713 %\u001b[1Gprogress is 7.265897837502425 %\u001b[1Gprogress is 7.3383086690851345 %\u001b[1Gprogress is 7.424414570564626 %\u001b[1Gprogress is 7.494775650751137 %\u001b[1Gprogress is 7.565136730937648 %\u001b[1Gprogress is 7.644656903684996 %\u001b[1Gprogress is 7.719091175240362 %\u001b[1Gprogress is 7.791494485095776 %\u001b[1Gprogress is 7.86389779495119 %\u001b[1Gprogress is 7.950528854059001 %\u001b[1Gprogress is 8.02094440685157 %\u001b[1Gprogress is 8.091359959644137 %\u001b[1Gprogress is 8.17078449139554 %\u001b[1Gprogress is 8.245437642207847 %\u001b[1Gprogress is 8.317856802791926 %\u001b[1Gprogress is 8.390275963376004 %\u001b[1Gprogress is 8.477277442503919 %\u001b[1Gprogress is 8.547746759067019 %\u001b[1Gprogress is 8.618216075630118 %\u001b[1Gprogress is 8.697606898031639 %\u001b[1Gprogress is 8.772416153115675 %\u001b[1Gprogress is 8.844869306097811 %\u001b[1Gprogress is 8.91732245907995 %\u001b[1Gprogress is 9.004564947396544 %\u001b[1Gprogress is 9.075087684199042 %\u001b[1Gprogress is 9.14561042100154 %\u001b[1Gprogress is 9.225016711689731 %\u001b[1Gprogress is 9.29993051887972 %\u001b[1Gprogress is 9.372431355771779 %\u001b[1Gprogress is 9.44493219266384 %\u001b[1Gprogress is 9.532311168844391 %\u001b[1Gprogress is 9.602886947581451 %\u001b[1Gprogress is 9.673462726318514 %\u001b[1Gprogress is 9.752922547449497 %\u001b[1Gprogress is 9.827899718156866 %\u001b[1Gprogress is 9.900458336320245 %\u001b[1Gprogress is 9.973016954483626 %\u001b[1Gprogress is 10.060450057717985 %\u001b[1Gprogress is 10.131078278635993 %\u001b[1Gprogress is 10.201706499554005 %\u001b[1Gprogress is 10.281248756182853 %\u001b[1Gprogress is 10.35625698721307 %\u001b[1Gprogress is 10.428880684816454 %\u001b[1Gprogress is 10.501504382419839 %\u001b[1Gprogress is 10.58892779804691 %\u001b[1Gprogress is 10.659607593971355 %\u001b[1Gprogress is 10.7302873898958 %\u001b[1Gprogress is 10.809933731353556 %\u001b[1Gprogress is 10.884947980901657 %\u001b[1Gprogress is 10.957641936753335 %\u001b[1Gprogress is 11.03033589260501 %\u001b[1Gprogress is 11.117700701156515 %\u001b[1Gprogress is 11.18843096818405 %\u001b[1Gprogress is 11.259161235211582 %\u001b[1Gprogress is 11.33892772486638 %\u001b[1Gprogress is 11.413928697252587 %\u001b[1Gprogress is 11.48669652530338 %\u001b[1Gprogress is 11.559464353354171 %\u001b[1Gprogress is 11.646733261311915 %\u001b[1Gprogress is 11.717512721900206 %\u001b[1Gprogress is 11.788292182488494 %\u001b[1Gprogress is 11.868190682691978 %\u001b[1Gprogress is 11.943163528491743 %\u001b[1Gprogress is 12.016007717371517 %\u001b[1Gprogress is 12.088851906251291 %\u001b[1Gprogress is 12.175996506249794 %\u001b[1Gprogress is 12.246823778904572 %\u001b[1Gprogress is 12.317651051559352 %\u001b[1Gprogress is 12.397690333616364 %\u001b[1Gprogress is 12.47262358749852 %\u001b[1Gprogress is 12.545545843170405 %\u001b[1Gprogress is 12.618468098842289 %\u001b[1Gprogress is 12.705466661926204 %\u001b[1Gprogress is 12.776340324793766 %\u001b[1Gprogress is 12.847213987661327 %\u001b[1Gprogress is 12.927400603784218 %\u001b[1Gprogress is 13.002285341366344 %\u001b[1Gprogress is 13.07528685224764 %\u001b[1Gprogress is 13.148288363128934 %\u001b[1Gprogress is 13.235124100550813 %\u001b[1Gprogress is 13.306042744240862 %\u001b[1Gprogress is 13.376961387930914 %\u001b[1Gprogress is 13.45730034963028 %\u001b[1Gprogress is 13.532129529162203 %\u001b[1Gprogress is 13.605211171432435 %\u001b[1Gprogress is 13.678292813702667 %\u001b[1Gprogress is 13.76495252517754 %\u001b[1Gprogress is 13.835914794358978 %\u001b[1Gprogress is 13.906877063540419 %\u001b[1Gprogress is 13.987372369010775 %\u001b[1Gprogress is 14.062140321243325 %\u001b[1Gprogress is 14.135302819438552 %\u001b[1Gprogress is 14.208465317633781 %\u001b[1Gprogress is 14.294938344272726 %\u001b[1Gprogress is 14.365942969549078 %\u001b[1Gprogress is 14.436947594825433 %\u001b[1Gprogress is 14.517602642304439 %\u001b[1Gprogress is 14.592304675266062 %\u001b[1Gprogress is 14.665548730579204 %\u001b[1Gprogress is 14.738792785892347 %\u001b[1Gprogress is 14.825070196062025 %\u001b[1Gprogress is 14.896116018326206 %\u001b[1Gprogress is 14.967161840590384 %\u001b[1Gprogress is 15.047979758417007 %\u001b[1Gprogress is 15.122611849101178 %\u001b[1Gprogress is 15.195938245533547 %\u001b[1Gprogress is 15.269264641965915 %\u001b[1Gprogress is 15.355338590715151 %\u001b[1Gprogress is 15.426424580267643 %\u001b[1Gprogress is 15.497510569820133 %\u001b[1Gprogress is 15.578494488267669 %\u001b[1Gprogress is 15.653053038554118 %\u001b[1Gprogress is 15.726462735263267 %\u001b[1Gprogress is 15.799872431972412 %\u001b[1Gprogress is 15.885735646067701 %\u001b[1Gprogress is 15.956860918638919 %\u001b[1Gprogress is 16.027986191210132 %\u001b[1Gprogress is 16.109139476721154 %\u001b[1Gprogress is 16.18362111545371 %\u001b[1Gprogress is 16.257115332437273 %\u001b[1Gprogress is 16.33060954942084 %\u001b[1Gprogress is 16.416254899511134 %\u001b[1Gprogress is 16.48741873113975 %\u001b[1Gprogress is 16.55858256276836 %\u001b[1Gprogress is 16.639909032073 %\u001b[1Gprogress is 16.71431044884491 %\u001b[1Gprogress is 16.787890752457646 %\u001b[1Gprogress is 16.861471056070382 %\u001b[1Gprogress is 16.94689118456272 %\u001b[1Gprogress is 17.018093027159843 %\u001b[1G"
     ]
    },
    {
     "name": "stdout",
     "output_type": "stream",
     "text": [
      "progress is 17.08929486975696 %\u001b[1Gprogress is 17.170798999556872 %\u001b[1Gprogress is 17.24511679841036 %\u001b[1Gprogress is 17.318785193100787 %\u001b[1Gprogress is 17.392453587791213 %\u001b[1Gprogress is 17.47764056583336 %\u001b[1Gprogress is 17.548880065300523 %\u001b[1Gprogress is 17.620119564767688 %\u001b[1Gprogress is 17.701806712303295 %\u001b[1Gprogress is 17.77603727527922 %\u001b[1Gprogress is 17.84979630855748 %\u001b[1Gprogress is 17.923555341835744 %\u001b[1Gprogress is 18.00850033137906 %\u001b[1Gprogress is 18.079777350321734 %\u001b[1Gprogress is 18.151054369264415 %\u001b[1Gprogress is 18.23293102016512 %\u001b[1Gprogress is 18.30707037155842 %\u001b[1Gprogress is 18.380923260545043 %\u001b[1Gprogress is 18.454776149531664 %\u001b[1Gprogress is 18.539469046842573 %\u001b[1Gprogress is 18.610783694405427 %\u001b[1Gprogress is 18.682098341968285 %\u001b[1Gprogress is 18.76417240486272 %\u001b[1Gprogress is 18.838216067098294 %\u001b[1Gprogress is 18.9121668575044 %\u001b[1Gprogress is 18.986117647910508 %\u001b[1Gprogress is 19.070546682865825 %\u001b[1Gprogress is 19.14189935501322 %\u001b[1Gprogress is 19.213252027160614 %\u001b[1Gprogress is 19.295533200078825 %\u001b[1Gprogress is 19.36947603128473 %\u001b[1Gprogress is 19.44341886249063 %\u001b[1Gprogress is 19.51747263496751 %\u001b[1Gprogress is 19.601665754428918 %\u001b[1Gprogress is 19.673056140453777 %\u001b[1Gprogress is 19.744446526478633 %\u001b[1Gprogress is 19.82692529353754 %\u001b[1Gprogress is 19.900774860311987 %\u001b[1Gprogress is 19.97462442708644 %\u001b[1Gprogress is 20.04877767484161 %\u001b[1Gprogress is 20.132781138851364 %\u001b[1Gprogress is 20.20420691412512 %\u001b[1Gprogress is 20.27563268939888 %\u001b[1Gprogress is 20.358284698434343 %\u001b[1Gprogress is 20.432056877284996 %\u001b[1Gprogress is 20.505829056135646 %\u001b[1Gprogress is 20.580071209034042 %\u001b[1Gprogress is 20.663912197889367 %\u001b[1Gprogress is 20.73537022673028 %\u001b[1Gprogress is 20.806828255571194 %\u001b[1Gprogress is 20.88963441617201 %\u001b[1Gprogress is 20.963340606581532 %\u001b[1Gprogress is 21.03704679699105 %\u001b[1Gprogress is 21.111369376064275 %\u001b[1Gprogress is 21.195068277431364 %\u001b[1Gprogress is 21.26655594909096 %\u001b[1Gprogress is 21.33804362075056 %\u001b[1Gprogress is 21.420988947357763 %\u001b[1Gprogress is 21.49463770766225 %\u001b[1Gprogress is 21.568286467966733 %\u001b[1Gprogress is 21.642682681380858 %\u001b[1Gprogress is 21.72625515158938 %\u001b[1Gprogress is 21.79777030648882 %\u001b[1Gprogress is 21.86928546138826 %\u001b[1Gprogress is 21.952358038151402 %\u001b[1Gprogress is 22.025955929211953 %\u001b[1Gprogress is 22.099553820272504 %\u001b[1Gprogress is 22.174018174532645 %\u001b[1Gprogress is 22.25747643511343 %\u001b[1Gprogress is 22.329017271569963 %\u001b[1Gprogress is 22.400558108026498 %\u001b[1Gprogress is 22.483748342367207 %\u001b[1Gprogress is 22.557300472656934 %\u001b[1Gprogress is 22.63085260294666 %\u001b[1Gprogress is 22.705380610249037 %\u001b[1Gprogress is 22.788734327347974 %\u001b[1Gprogress is 22.860299326628382 %\u001b[1Gprogress is 22.93186432590879 %\u001b[1Gprogress is 23.01516441087019 %\u001b[1Gprogress is 23.088674808414243 %\u001b[1Gprogress is 23.162185205958288 %\u001b[1Gprogress is 23.236773166927744 %\u001b[1Gprogress is 23.320030068917287 %\u001b[1Gprogress is 23.391617938037708 %\u001b[1Gprogress is 23.46320580715813 %\u001b[1Gprogress is 23.54660932880205 %\u001b[1Gprogress is 23.620081202976635 %\u001b[1Gprogress is 23.69355307715122 %\u001b[1Gprogress is 23.76819791847613 %\u001b[1Gprogress is 23.851364240119874 %\u001b[1Gprogress is 23.922973868411333 %\u001b[1Gprogress is 23.99458349670279 %\u001b[1Gprogress is 24.07808514329159 %\u001b[1Gprogress is 24.15152107329638 %\u001b[1Gprogress is 24.22495700330117 %\u001b[1Gprogress is 24.299656155192075 %\u001b[1Gprogress is 24.382736963003886 %\u001b[1Gprogress is 24.454367388935026 %\u001b[1Gprogress is 24.525997814866166 %\u001b[1Gprogress is 24.60959315860424 %\u001b[1Gprogress is 24.682995231572004 %\u001b[1Gprogress is 24.75639730453977 %\u001b[1Gprogress is 24.831148607312937 %\u001b[1Gprogress is 24.91414804152318 %\u001b[1Gprogress is 24.98579842713392 %\u001b[1Gprogress is 25.05744881274466 %\u001b[1Gprogress is 25.141134144067962 %\u001b[1Gprogress is 25.214504057787885 %\u001b[1Gprogress is 25.287873971507814 %\u001b[1Gprogress is 25.36267560372188 %\u001b[1Gprogress is 25.445597060506003 %\u001b[1Gprogress is 25.51726667152268 %\u001b[1Gprogress is 25.58893628253936 %\u001b[1Gprogress is 25.672708483053725 %\u001b[1Gprogress is 25.74604762332708 %\u001b[1Gprogress is 25.819386763600434 %\u001b[1Gprogress is 25.894237186340774 %\u001b[1Gprogress is 25.97708345652501 %\u001b[1Gprogress is 26.048771646774888 %\u001b[1Gprogress is 26.120459837024768 %\u001b[1Gprogress is 26.20431628125407 %\u001b[1Gprogress is 26.277625780750647 %\u001b[1Gprogress is 26.350935280247217 %\u001b[1Gprogress is 26.425833193649144 %\u001b[1Gprogress is 26.508606569218458 %\u001b[1Gprogress is 26.58031276830206 %\u001b[1Gprogress is 26.652018967385672 %\u001b[1Gprogress is 26.735957446290538 %\u001b[1Gprogress is 26.809238229733968 %\u001b[1Gprogress is 26.882519013177397 %\u001b[1Gprogress is 26.957463322342274 %\u001b[1Gprogress is 27.040165678784174 %\u001b[1Gprogress is 27.11188938227762 %\u001b[1Gprogress is 27.183613085771068 %\u001b[1Gprogress is 27.267631746918426 %\u001b[1Gprogress is 27.34088456600905 %\u001b[1Gprogress is 27.414137385099675 %\u001b[1Gprogress is 27.489127173311186 %\u001b[1Gprogress is 27.57176003361777 %\u001b[1Gprogress is 27.64350079524789 %\u001b[1Gprogress is 27.715241556878002 %\u001b[1Gprogress is 27.799338857526124 %\u001b[1Gprogress is 27.87256431808047 %\u001b[1Gprogress is 27.945789778634822 %\u001b[1Gprogress is 28.020824286294282 %\u001b[1Gprogress is 28.10338887084589 %\u001b[1Gprogress is 28.175146296224597 %\u001b[1Gprogress is 28.2469037216033 %\u001b[1Gprogress is 28.3310783918956 %\u001b[1Gprogress is 28.404276974993497 %\u001b[1Gprogress is 28.477475558091392 %\u001b[1Gprogress is 28.55255416623452 %\u001b[1Gprogress is 28.6350514316766 %\u001b[1Gprogress is 28.70682517329049 %\u001b[1Gprogress is 28.778598914904386 %\u001b[1Gprogress is 28.86284992913967 %\u001b[1Gprogress is 28.936022007621666 %\u001b[1Gprogress is 29.00919408610366 %\u001b[1Gprogress is 29.08431630359873 %\u001b[1Gprogress is 29.166746973045537 %\u001b[1Gprogress is 29.238536726257465 %\u001b[1Gprogress is 29.31032647946939 %\u001b[1Gprogress is 29.394653033854603 %\u001b[1Gprogress is 29.467798885150685 %\u001b[1Gprogress is 29.54094473644678 %\u001b[1Gprogress is 29.616110190241063 %\u001b[1Gprogress is 29.698474776517454 %\u001b[1Gprogress is 29.77028027642031 %\u001b[1Gprogress is 29.842085776323163 %\u001b[1Gprogress is 29.926487272089304 %\u001b[1Gprogress is 29.999607088111592 %\u001b[1Gprogress is 30.07272690413388 %\u001b[1Gprogress is 30.147935332034326 %\u001b[1Gprogress is 30.2302341552667 %\u001b[1Gprogress is 30.30205517425197 %\u001b[1Gprogress is 30.373876193237237 %\u001b[1Gprogress is 30.458352224214607 %\u001b[1Gprogress is 30.53144611888342 %\u001b[1Gprogress is 30.604540013552228 %\u001b[1Gprogress is 30.679791259196826 %\u001b[1Gprogress is 30.762024459716226 %\u001b[1Gprogress is 30.833860805650243 %\u001b[1Gprogress is 30.90569715158426 %\u001b[1Gprogress is 30.990247495625205 %\u001b[1Gprogress is 31.063315510428318 %\u001b[1Gprogress is 31.13638352523143 %\u001b[1Gprogress is 31.211677534973635 %\u001b[1Gprogress is 31.293845082235805 %\u001b[1Gprogress is 31.36569659719306 %\u001b[1Gprogress is 31.43754811215031 %\u001b[1Gprogress is 31.52217272592891 %\u001b[1Gprogress is 31.595214833835573 %\u001b[1Gprogress is 31.66825694174222 %\u001b[1Gprogress is 31.743593763288953 %\u001b[1Gprogress is 31.825695461345934 %\u001b[1Gprogress is 31.897562020826488 %\u001b[1Gprogress is 31.969428580307046 %\u001b[1Gprogress is 32.05412759718564 %\u001b[1Gprogress is 32.12714370513366 %\u001b[1Gprogress is 32.20015981308167 %\u001b[1Gprogress is 32.27553959575712 %\u001b[1Gprogress is 32.35757508563449 %\u001b[1Gprogress is 32.42945659826152 %\u001b[1Gprogress is 32.50133811088853 %\u001b[1Gprogress is 32.586111841674615 %\u001b[1Gprogress is 32.65910179179123 %\u001b[1Gprogress is 32.73209174190785 %\u001b[1Gprogress is 32.807514738517355 %\u001b[1Gprogress is 32.88948349772074 %\u001b[1Gprogress is 32.9613799053876 %\u001b[1Gprogress is 33.033276313054465 %\u001b[1Gprogress is 33.11812524955413 %\u001b[1Gprogress is 33.19108881922064 %\u001b[1Gprogress is 33.264052388887144 %\u001b[1Gprogress is 33.3395189591773 %\u001b[1Gprogress is 33.42142029845498 %\u001b[1Gprogress is 33.49333157693271 %\u001b[1Gprogress is 33.56524285541044 %\u001b[1Gprogress is 33.65016767682805 %\u001b[1Gprogress is 33.72310457764694 %\u001b[1Gprogress is 33.796041478465824 %\u001b[1Gprogress is 33.871552094260984 %\u001b[1Gprogress is 33.95338515161016 %\u001b[1Gprogress is 34.02531131163747 %\u001b[1Gprogress is 34.09723747166479 %\u001b[1Gprogress is 34.18223905396665 %\u001b[1Gprogress is 34.255148929643994 %\u001b[1Gprogress is 34.32805880532134 %\u001b[1Gprogress is 34.40361405746352 %\u001b[1Gprogress is 34.4853777893299 %\u001b[1Gprogress is 34.55731887821262 %\u001b[1Gprogress is 34.62925996709533 %\u001b[1G"
     ]
    },
    {
     "name": "stdout",
     "output_type": "stream",
     "text": [
      "progress is 34.714339395573305 %\u001b[1Gprogress is 34.78722181870079 %\u001b[1Gprogress is 34.86010424182828 %\u001b[1Gprogress is 34.93570484911478 %\u001b[1Gprogress is 35.01739801855459 %\u001b[1Gprogress is 35.089354122341234 %\u001b[1Gprogress is 35.16131022612788 %\u001b[1Gprogress is 35.24646881152202 %\u001b[1Gprogress is 35.31932327919824 %\u001b[1Gprogress is 35.392177746874445 %\u001b[1Gprogress is 35.46782456726593 %\u001b[1Gprogress is 35.54944572878322 %\u001b[1Gprogress is 35.62141697508115 %\u001b[1Gprogress is 35.69338822137909 %\u001b[1Gprogress is 35.778627520052794 %\u001b[1Gprogress is 35.85145344824205 %\u001b[1Gprogress is 35.9242793764313 %\u001b[1Gprogress is 35.99997342089895 %\u001b[1Gprogress is 36.08152090153693 %\u001b[1Gprogress is 36.15350746309419 %\u001b[1Gprogress is 36.225494024651454 %\u001b[1Gprogress is 36.31081586349027 %\u001b[1Gprogress is 36.38361257996804 %\u001b[1Gprogress is 36.456409296445806 %\u001b[1Gprogress is 36.53215174593718 %\u001b[1Gprogress is 36.61362362202562 %\u001b[1Gprogress is 36.68562572118441 %\u001b[1Gprogress is 36.75762782034319 %\u001b[1Gprogress is 36.84303432722142 %\u001b[1Gprogress is 36.91580106291358 %\u001b[1Gprogress is 36.98856779860576 %\u001b[1Gprogress is 37.06436002474901 %\u001b[1Gprogress is 37.14575409356062 %\u001b[1Gprogress is 37.217772007795006 %\u001b[1Gprogress is 37.28978992202941 %\u001b[1Gprogress is 37.37528356300256 %\u001b[1Gprogress is 37.448019441445794 %\u001b[1Gprogress is 37.52075531988903 %\u001b[1Gprogress is 37.59659891025355 %\u001b[1Gprogress is 37.67791265556332 %\u001b[1Gprogress is 37.74994672431885 %\u001b[1Gprogress is 37.821980793074395 %\u001b[1Gprogress is 37.907564417752674 %\u001b[1Gprogress is 37.98026844234599 %\u001b[1Gprogress is 38.0529724669393 %\u001b[1Gprogress is 38.1288692559172 %\u001b[1Gprogress is 38.21009980618193 %\u001b[1Gprogress is 38.28215043932855 %\u001b[1Gprogress is 38.354201072475156 %\u001b[1Gprogress is 38.43987796950786 %\u001b[1Gprogress is 38.51254900810105 %\u001b[1Gprogress is 38.58522004669423 %\u001b[1Gprogress is 38.66117215337982 %\u001b[1Gprogress is 38.74231623084695 %\u001b[1Gprogress is 38.814383919164726 %\u001b[1Gprogress is 38.8864516074825 %\u001b[1Gprogress is 38.972225572674986 %\u001b[1Gprogress is 39.044862338943005 %\u001b[1Gprogress is 39.11749910521101 %\u001b[1Gprogress is 39.19350898012501 %\u001b[1Gprogress is 39.27456283870252 %\u001b[1Gprogress is 39.34664816693805 %\u001b[1Gprogress is 39.41873349517358 %\u001b[1Gprogress is 39.5046089155762 %\u001b[1Gprogress is 39.57720994642716 %\u001b[1Gprogress is 39.64981097727813 %\u001b[1Gprogress is 39.72588146037893 %\u001b[1Gprogress is 39.80684080935447 %\u001b[1Gprogress is 39.87894447258425 %\u001b[1Gprogress is 39.95104813581404 %\u001b[1Gprogress is 40.03703009424618 %\u001b[1Gprogress is 40.1095937223468 %\u001b[1Gprogress is 40.18215735044743 %\u001b[1Gprogress is 40.25829174373308 %\u001b[1Gprogress is 40.33915165356317 %\u001b[1Gprogress is 40.41127447786986 %\u001b[1Gprogress is 40.48339730217654 %\u001b[1Gprogress is 40.569491708212 %\u001b[1Gprogress is 40.642016028375544 %\u001b[1Gprogress is 40.714540348539096 %\u001b[1Gprogress is 40.790742507742046 %\u001b[1Gprogress is 40.871497292760004 %\u001b[1Gprogress is 40.94364026159635 %\u001b[1Gprogress is 41.01578323043269 %\u001b[1Gprogress is 41.10199698609372 %\u001b[1Gprogress is 41.174479813939385 %\u001b[1Gprogress is 41.24696264178505 %\u001b[1Gprogress is 41.32323709337421 %\u001b[1Gprogress is 41.40388016451965 %\u001b[1Gprogress is 41.476044452699604 %\u001b[1Gprogress is 41.54820874087955 %\u001b[1Gprogress is 41.634549952495576 %\u001b[1Gprogress is 41.70698877324344 %\u001b[1Gprogress is 41.779427593991294 %\u001b[1Gprogress is 41.855779686275696 %\u001b[1Gprogress is 41.93630336431999 %\u001b[1Gprogress is 42.008490382384785 %\u001b[1Gprogress is 42.08067740044958 %\u001b[1Gprogress is 42.16715565280463 %\u001b[1Gprogress is 42.23954755741458 %\u001b[1Gprogress is 42.311939462024526 %\u001b[1Gprogress is 42.38837556283087 %\u001b[1Gprogress is 42.4687708388554 %\u001b[1Gprogress is 42.540982291807794 %\u001b[1Gprogress is 42.61319374476019 %\u001b[1Gprogress is 42.699820460718065 %\u001b[1Gprogress is 42.77216206557408 %\u001b[1Gprogress is 42.84450367043009 %\u001b[1Gprogress is 42.92103142962257 %\u001b[1Gprogress is 43.00128765402173 %\u001b[1Gprogress is 43.07352562035377 %\u001b[1Gprogress is 43.14576358668581 %\u001b[1Gprogress is 43.23255250617657 %\u001b[1Gprogress is 43.304839851273655 %\u001b[1Gprogress is 43.377127196370736 %\u001b[1Gprogress is 43.453755900344824 %\u001b[1Gprogress is 43.533860373371894 %\u001b[1Gprogress is 43.60612741333978 %\u001b[1Gprogress is 43.67839445330766 %\u001b[1Gprogress is 43.76536228241033 %\u001b[1Gprogress is 43.83759070120345 %\u001b[1Gprogress is 43.90981911999658 %\u001b[1Gprogress is 43.9865601795204 %\u001b[1Gprogress is 44.06649760374526 %\u001b[1Gprogress is 44.138796910846004 %\u001b[1Gprogress is 44.21109621794675 %\u001b[1Gprogress is 44.298263525867654 %\u001b[1Gprogress is 44.37042747756868 %\u001b[1Gprogress is 44.442591429269704 %\u001b[1Gprogress is 44.51945906548132 %\u001b[1Gprogress is 44.59921080071646 %\u001b[1Gprogress is 44.671546418734835 %\u001b[1Gprogress is 44.743882036753206 %\u001b[1Gprogress is 44.831274523385844 %\u001b[1Gprogress is 44.903367375442265 %\u001b[1Gprogress is 44.97546022749869 %\u001b[1Gprogress is 45.05247246066592 %\u001b[1Gprogress is 45.132015489949026 %\u001b[1Gprogress is 45.20439263268446 %\u001b[1Gprogress is 45.27676977541989 %\u001b[1Gprogress is 45.3644201093341 %\u001b[1Gprogress is 45.436433854292936 %\u001b[1Gprogress is 45.508447599251774 %\u001b[1Gprogress is 45.585627715335306 %\u001b[1Gprogress is 45.66493317760531 %\u001b[1Gprogress is 45.73735871526674 %\u001b[1Gprogress is 45.80978425292816 %\u001b[1Gprogress is 45.897734817560064 %\u001b[1Gprogress is 45.96965970564542 %\u001b[1Gprogress is 46.041584593730775 %\u001b[1Gprogress is 46.11896339374523 %\u001b[1Gprogress is 46.197994448169375 %\u001b[1Gprogress is 46.270477676135684 %\u001b[1Gprogress is 46.342960904102 %\u001b[1Gprogress is 46.431268048209056 %\u001b[1Gprogress is 46.50309211913454 %\u001b[1Gprogress is 46.57491619006004 %\u001b[1Gprogress is 46.65253557990299 %\u001b[1Gprogress is 46.731244205933784 %\u001b[1Gprogress is 46.80379811649618 %\u001b[1Gprogress is 46.87635202705859 %\u001b[1Gprogress is 46.96509292668349 %\u001b[1Gprogress is 47.03680144582473 %\u001b[1Gprogress is 47.10850996496597 %\u001b[1Gprogress is 47.186428965611285 %\u001b[1Gprogress is 47.26475100617465 %\u001b[1Gprogress is 47.3373945127683 %\u001b[1Gprogress is 47.410038019361956 %\u001b[1Gprogress is 47.49932233871437 %\u001b[1Gprogress is 47.57089723175922 %\u001b[1Gprogress is 47.642472124804065 %\u001b[1Gprogress is 47.720777544925596 %\u001b[1Gprogress is 47.79862472963069 %\u001b[1Gprogress is 47.87138683579469 %\u001b[1Gprogress is 47.94414894195869 %\u001b[1Gprogress is 48.03413995469176 %\u001b[1Gprogress is 48.105559658648666 %\u001b[1Gprogress is 48.17697936260557 %\u001b[1Gprogress is 48.25580620975895 %\u001b[1Gprogress is 48.33305275440243 %\u001b[1Gprogress is 48.405981090667325 %\u001b[1Gprogress is 48.47890942693221 %\u001b[1Gprogress is 48.56984876005174 %\u001b[1Gprogress is 48.64109200035032 %\u001b[1Gprogress is 48.712335240648905 %\u001b[1Gprogress is 48.79190719296094 %\u001b[1Gprogress is 48.868369390348185 %\u001b[1Gprogress is 48.9415490161509 %\u001b[1Gprogress is 49.01472864195362 %\u001b[1Gprogress is 49.104144366809976 %\u001b[1Gprogress is 49.17548733170121 %\u001b[1Gprogress is 49.24683029659246 %\u001b[1Gprogress is 49.32707125434666 %\u001b[1Gprogress is 49.40299301345238 %\u001b[1Gprogress is 49.47641739955223 %\u001b[1Gprogress is 49.54984178565209 %\u001b[1Gprogress is 49.638091247048195 %\u001b[1Gprogress is 49.70952028778724 %\u001b[1Gprogress is 49.7809493285263 %\u001b[1Gprogress is 49.861766359974055 %\u001b[1Gprogress is 49.937260426650155 %\u001b[1Gprogress is 50.01090859856701 %\u001b[1Gprogress is 50.08455677048388 %\u001b[1Gprogress is 50.17184620666322 %\u001b[1Gprogress is 50.24334905600231 %\u001b[1Gprogress is 50.314851905341406 %\u001b[1Gprogress is 50.39618305360929 %\u001b[1Gprogress is 50.47131787959736 %\u001b[1Gprogress is 50.5451754235126 %\u001b[1Gprogress is 50.61903296742785 %\u001b[1Gprogress is 50.70549180142471 %\u001b[1Gprogress is 50.77706050703126 %\u001b[1Gprogress is 50.84862921263781 %\u001b[1Gprogress is 50.93043615970099 %\u001b[1Gprogress is 51.00525537220143 %\u001b[1Gprogress is 51.07931467333927 %\u001b[1Gprogress is 51.15337397447711 %\u001b[1Gprogress is 51.239084059881556 %\u001b[1Gprogress is 51.310714024168824 %\u001b[1Gprogress is 51.38234398845608 %\u001b[1Gprogress is 51.46460660927959 %\u001b[1Gprogress is 51.539137788304245 %\u001b[1Gprogress is 51.613397516220836 %\u001b[1Gprogress is 51.687657244137434 %\u001b[1Gprogress is 51.772667430887964 %\u001b[1Gprogress is 51.84435670310964 %\u001b[1Gprogress is 51.916045975331315 %\u001b[1Gprogress is 51.99875958532469 %\u001b[1Gprogress is 52.073018795515736 %\u001b[1Gprogress is 52.147278005706774 %\u001b[1Gprogress is 52.22174309402661 %\u001b[1Gprogress is 52.30615393176969 %\u001b[1Gprogress is 52.37790076270679 %\u001b[1Gprogress is 52.449647593643874 %\u001b[1Gprogress is 52.53278161748028 %\u001b[1Gprogress is 52.60680054659899 %\u001b[1G"
     ]
    },
    {
     "name": "stdout",
     "output_type": "stream",
     "text": [
      "progress is 52.68081947571769 %\u001b[1Gprogress is 52.75548251297728 %\u001b[1Gprogress is 52.839437913527874 %\u001b[1Gprogress is 52.911236982755014 %\u001b[1Gprogress is 52.98303605198215 %\u001b[1Gprogress is 53.06652293167975 %\u001b[1Gprogress is 53.14035122996962 %\u001b[1Gprogress is 53.214179528259486 %\u001b[1Gprogress is 53.289013799163456 %\u001b[1Gprogress is 53.37259314507955 %\u001b[1Gprogress is 53.44443737951855 %\u001b[1Gprogress is 53.51628161395754 %\u001b[1Gprogress is 53.600071874146494 %\u001b[1Gprogress is 53.67374286438932 %\u001b[1Gprogress is 53.74741385463214 %\u001b[1Gprogress is 53.82239910908238 %\u001b[1Gprogress is 53.90565852857393 %\u001b[1Gprogress is 53.97754258751395 %\u001b[1Gprogress is 54.049426646453966 %\u001b[1Gprogress is 54.13348374663468 %\u001b[1Gprogress is 54.20702112829191 %\u001b[1Gprogress is 54.28055850994913 %\u001b[1Gprogress is 54.355679440703895 %\u001b[1Gprogress is 54.43865994277566 %\u001b[1Gprogress is 54.51057982011515 %\u001b[1Gprogress is 54.582499697454644 %\u001b[1Gprogress is 54.66679625250226 %\u001b[1Gprogress is 54.74021739930329 %\u001b[1Gprogress is 54.81363854610433 %\u001b[1Gprogress is 54.88888352673905 %\u001b[1Gprogress is 54.97161569539513 %\u001b[1Gprogress is 55.04356837340214 %\u001b[1Gprogress is 55.11552105140917 %\u001b[1Gprogress is 55.200036363787575 %\u001b[1Gprogress is 55.273354272665046 %\u001b[1Gprogress is 55.34667218154251 %\u001b[1Gprogress is 55.422032392188235 %\u001b[1Gprogress is 55.50453931325061 %\u001b[1Gprogress is 55.57652252137557 %\u001b[1Gprogress is 55.64850572950052 %\u001b[1Gprogress is 55.73322415383751 %\u001b[1Gprogress is 55.80644867057407 %\u001b[1Gprogress is 55.87967318731063 %\u001b[1Gprogress is 55.95514201348073 %\u001b[1Gprogress is 56.03744117928196 %\u001b[1Gprogress is 56.109453229775795 %\u001b[1Gprogress is 56.18146528026961 %\u001b[1Gprogress is 56.2663751197186 %\u001b[1Gprogress is 56.33951374111319 %\u001b[1Gprogress is 56.41265236250778 %\u001b[1Gprogress is 56.48822498120695 %\u001b[1Gprogress is 56.57032956556384 %\u001b[1Gprogress is 56.642369241818656 %\u001b[1Gprogress is 56.71440891807349 %\u001b[1Gprogress is 56.799501672601124 %\u001b[1Gprogress is 56.87256008634506 %\u001b[1Gprogress is 56.94561850008899 %\u001b[1Gprogress is 57.021291597585176 %\u001b[1Gprogress is 57.103211323253014 %\u001b[1Gprogress is 57.175277804914074 %\u001b[1Gprogress is 57.24734428657514 %\u001b[1Gprogress is 57.33261414418727 %\u001b[1Gprogress is 57.40559659865665 %\u001b[1Gprogress is 57.47857905312603 %\u001b[1Gprogress is 57.554350639256725 %\u001b[1Gprogress is 57.63609236943472 %\u001b[1Gprogress is 57.708185184301264 %\u001b[1Gprogress is 57.78027799916781 %\u001b[1Gprogress is 57.86572150333236 %\u001b[1Gprogress is 57.93863106242212 %\u001b[1Gprogress is 58.01154062151189 %\u001b[1Gprogress is 58.08740991893654 %\u001b[1Gprogress is 58.168978052757744 %\u001b[1Gprogress is 58.241097049397794 %\u001b[1Gprogress is 58.31321604603785 %\u001b[1Gprogress is 58.39883189900833 %\u001b[1Gprogress is 58.471670615811846 %\u001b[1Gprogress is 58.54450933261535 %\u001b[1Gprogress is 58.620476728702855 %\u001b[1Gprogress is 58.70187344952227 %\u001b[1Gprogress is 58.77401878731834 %\u001b[1Gprogress is 58.846164125114406 %\u001b[1Gprogress is 58.931953104516275 %\u001b[1Gprogress is 59.00472213489996 %\u001b[1Gprogress is 59.07749116528363 %\u001b[1Gprogress is 59.15355822137548 %\u001b[1Gprogress is 59.23478362651083 %\u001b[1Gprogress is 59.30695578185945 %\u001b[1Gprogress is 59.379127937208075 %\u001b[1Gprogress is 59.46509291637514 %\u001b[1Gprogress is 59.53779258531421 %\u001b[1Gprogress is 59.610492254253266 %\u001b[1Gprogress is 59.6866617730458 %\u001b[1Gprogress is 59.76771389957525 %\u001b[1Gprogress is 59.839913688848554 %\u001b[1Gprogress is 59.91211347812187 %\u001b[1Gprogress is 59.99825955182657 %\u001b[1Gprogress is 60.070889379871616 %\u001b[1Gprogress is 60.143519207916675 %\u001b[1Gprogress is 60.21979536592671 %\u001b[1Gprogress is 60.30067011581062 %\u001b[1Gprogress is 60.37289873753535 %\u001b[1Gprogress is 60.445127359260084 %\u001b[1Gprogress is 60.5314620880044 %\u001b[1Gprogress is 60.60402078113513 %\u001b[1Gprogress is 60.67657947426586 %\u001b[1Gprogress is 60.75296803375046 %\u001b[1Gprogress is 60.83365899109553 %\u001b[1Gprogress is 60.90591809229785 %\u001b[1Gprogress is 60.97817719350016 %\u001b[1Gprogress is 61.06471099337064 %\u001b[1Gprogress is 61.137196396092776 %\u001b[1Gprogress is 61.20968179881492 %\u001b[1Gprogress is 61.28619042375898 %\u001b[1Gprogress is 61.36668854520608 %\u001b[1Gprogress is 61.438980320205076 %\u001b[1Gprogress is 61.51127209520406 %\u001b[1Gprogress is 61.598018819586876 %\u001b[1Gprogress is 61.670427827944195 %\u001b[1Gprogress is 61.74283683630152 %\u001b[1Gprogress is 61.81947555246585 %\u001b[1Gprogress is 61.89976869651045 %\u001b[1Gprogress is 61.97209603182979 %\u001b[1Gprogress is 62.044423367149136 %\u001b[1Gprogress is 62.131401155723886 %\u001b[1Gprogress is 62.20372958347237 %\u001b[1Gprogress is 62.27605801122086 %\u001b[1Gprogress is 62.35283987478375 %\u001b[1Gprogress is 62.432912113878714 %\u001b[1Gprogress is 62.50527880170329 %\u001b[1Gprogress is 62.57764548952785 %\u001b[1Gprogress is 62.664878007126866 %\u001b[1Gprogress is 62.73712039458533 %\u001b[1Gprogress is 62.8093627820438 %\u001b[1Gprogress is 62.8863048627737 %\u001b[1Gprogress is 62.966135488209815 %\u001b[1Gprogress is 63.03854654606904 %\u001b[1Gprogress is 63.110957603928256 %\u001b[1Gprogress is 63.19847587186338 %\u001b[1Gprogress is 63.27062522285206 %\u001b[1Gprogress is 63.342774573840735 %\u001b[1Gprogress is 63.41989943145303 %\u001b[1Gprogress is 63.49946150578748 %\u001b[1Gprogress is 63.571923667957805 %\u001b[1Gprogress is 63.64438583012812 %\u001b[1Gprogress is 63.73223099535532 %\u001b[1Gprogress is 63.80427842455683 %\u001b[1Gprogress is 63.876325853758345 %\u001b[1Gprogress is 63.953663820469664 %\u001b[1Gprogress is 64.03292203844187 %\u001b[1Gprogress is 64.10544453794101 %\u001b[1Gprogress is 64.17796703744015 %\u001b[1Gprogress is 64.26619469214418 %\u001b[1Gprogress is 64.33812896751434 %\u001b[1Gprogress is 64.41006324288446 %\u001b[1Gprogress is 64.48765608682928 %\u001b[1Gprogress is 64.56656353954787 %\u001b[1Gprogress is 64.63915940843323 %\u001b[1Gprogress is 64.7117552773186 %\u001b[1Gprogress is 64.80044247156411 %\u001b[1Gprogress is 64.87224945945394 %\u001b[1Gprogress is 64.94405644734375 %\u001b[1Gprogress is 65.02196353374751 %\u001b[1Gprogress is 65.10045666429225 %\u001b[1Gprogress is 65.17314501796983 %\u001b[1Gprogress is 65.24583337164741 %\u001b[1Gprogress is 65.33509058524946 %\u001b[1Gprogress is 65.40675270036564 %\u001b[1Gprogress is 65.47841481548184 %\u001b[1Gprogress is 65.55672409400492 %\u001b[1Gprogress is 65.63471454217492 %\u001b[1Gprogress is 65.70752488052224 %\u001b[1Gprogress is 65.78033521886957 %\u001b[1Gprogress is 65.87032814324454 %\u001b[1Gprogress is 65.94182424951428 %\u001b[1Gprogress is 66.01332035578402 %\u001b[1Gprogress is 66.09216947166074 %\u001b[1Gprogress is 66.16953032305891 %\u001b[1Gprogress is 66.24251138511205 %\u001b[1Gprogress is 66.31549244716518 %\u001b[1Gprogress is 66.40648501344633 %\u001b[1Gprogress is 66.47779249904315 %\u001b[1Gprogress is 66.54909998463997 %\u001b[1Gprogress is 66.62872100067378 %\u001b[1Gprogress is 66.70526253916314 %\u001b[1Gprogress is 66.77850282798552 %\u001b[1Gprogress is 66.85174311680791 %\u001b[1Gprogress is 66.94123592945013 %\u001b[1Gprogress is 67.01263688036028 %\u001b[1Gprogress is 67.08403783127042 %\u001b[1Gprogress is 67.16436532175588 %\u001b[1Gprogress is 67.24032933141653 %\u001b[1Gprogress is 67.31382749542706 %\u001b[1Gprogress is 67.38732565943756 %\u001b[1Gprogress is 67.47557901790734 %\u001b[1Gprogress is 67.54707013377774 %\u001b[1Gprogress is 67.61856124964812 %\u001b[1Gprogress is 67.69949985544181 %\u001b[1Gprogress is 67.77500966989226 %\u001b[1Gprogress is 67.84874543719226 %\u001b[1Gprogress is 67.92248120449229 %\u001b[1Gprogress is 68.0097158275071 %\u001b[1Gprogress is 68.08128440536437 %\u001b[1Gprogress is 68.15285298322165 %\u001b[1Gprogress is 68.23433891271743 %\u001b[1Gprogress is 68.30946724128466 %\u001b[1Gprogress is 68.38342669977786 %\u001b[1Gprogress is 68.45738615827106 %\u001b[1Gprogress is 68.5437378937344 %\u001b[1Gprogress is 68.61537582287848 %\u001b[1Gprogress is 68.68701375202255 %\u001b[1Gprogress is 68.76900912403987 %\u001b[1Gprogress is 68.84380145612506 %\u001b[1Gprogress is 68.91797826632592 %\u001b[1Gprogress is 68.99215507652677 %\u001b[1Gprogress is 69.07770766263873 %\u001b[1Gprogress is 69.14941056577607 %\u001b[1Gprogress is 69.22111346891342 %\u001b[1Gprogress is 69.30360076553688 %\u001b[1Gprogress is 69.37808504837487 %\u001b[1Gprogress is 69.4524801474513 %\u001b[1Gprogress is 69.52687524652772 %\u001b[1Gprogress is 69.6116760372178 %\u001b[1Gprogress is 69.68344257065321 %\u001b[1Gprogress is 69.75520910408862 %\u001b[1Gprogress is 69.8381886573632 %\u001b[1Gprogress is 69.9123801440938 %\u001b[1Gprogress is 69.9865716308244 %\u001b[1Gprogress is 70.06119354803556 %\u001b[1Gprogress is 70.14542056866952 %\u001b[1Gprogress is 70.21724751236542 %\u001b[1Gprogress is 70.28907445606131 %\u001b[1Gprogress is 70.372478038641 %\u001b[1Gprogress is 70.44643292223353 %\u001b[1Gprogress is 70.52038780582606 %\u001b[1Gprogress is 70.59521215086895 %\u001b[1Gprogress is 70.6789823043461 %\u001b[1Gprogress is 70.75086197482038 %\u001b[1Gprogress is 70.82274164529464 %\u001b[1G"
     ]
    },
    {
     "name": "stdout",
     "output_type": "stream",
     "text": [
      "progress is 70.90650536759622 %\u001b[1Gprogress is 70.980269126778 %\u001b[1Gprogress is 71.05403288595976 %\u001b[1Gprogress is 71.12903438287533 %\u001b[1Gprogress is 71.21242151065974 %\u001b[1Gprogress is 71.28434719458957 %\u001b[1Gprogress is 71.3562728785194 %\u001b[1Gprogress is 71.44035049795751 %\u001b[1Gprogress is 71.51395421216947 %\u001b[1Gprogress is 71.58755792638144 %\u001b[1Gprogress is 71.66271776394778 %\u001b[1Gprogress is 71.745774262526 %\u001b[1Gprogress is 71.81774101227441 %\u001b[1Gprogress is 71.88970776202281 %\u001b[1Gprogress is 71.97406542094235 %\u001b[1Gprogress is 72.04753126042944 %\u001b[1Gprogress is 72.12099709991652 %\u001b[1Gprogress is 72.19630130328198 %\u001b[1Gprogress is 72.27906530631762 %\u001b[1Gprogress is 72.35106948969747 %\u001b[1Gprogress is 72.42307367307734 %\u001b[1Gprogress is 72.50768639574306 %\u001b[1Gprogress is 72.58103056643004 %\u001b[1Gprogress is 72.65437473711702 %\u001b[1Gprogress is 72.72981298852076 %\u001b[1Gprogress is 72.81231261779682 %\u001b[1Gprogress is 72.88435158784964 %\u001b[1Gprogress is 72.95639055790247 %\u001b[1Gprogress is 73.04123999100021 %\u001b[1Gprogress is 73.11447450533363 %\u001b[1Gprogress is 73.18770901966704 %\u001b[1Gprogress is 73.2632738639165 %\u001b[1Gprogress is 73.34552989450708 %\u001b[1Gprogress is 73.41760176879252 %\u001b[1Gprogress is 73.48967364307796 %\u001b[1Gprogress is 73.57474657924061 %\u001b[1Gprogress is 73.64788037568293 %\u001b[1Gprogress is 73.72101417212524 %\u001b[1Gprogress is 73.79670048834399 %\u001b[1Gprogress is 73.87872807378545 %\u001b[1Gprogress is 73.95083159005522 %\u001b[1Gprogress is 74.02293510632497 %\u001b[1Gprogress is 74.10822251718088 %\u001b[1Gprogress is 74.18126219056359 %\u001b[1Gprogress is 74.25430186394628 %\u001b[1Gprogress is 74.3301065248572 %\u001b[1Gprogress is 74.41191632951578 %\u001b[1Gprogress is 74.4840507548389 %\u001b[1Gprogress is 74.55618518016203 %\u001b[1Gprogress is 74.64168159890067 %\u001b[1Gprogress is 74.71463188500547 %\u001b[1Gprogress is 74.78758217111027 %\u001b[1Gprogress is 74.86350384193928 %\u001b[1Gprogress is 74.9451027773449 %\u001b[1Gprogress is 75.01726785679196 %\u001b[1Gprogress is 75.089432936239 %\u001b[1Gprogress is 75.17513609678652 %\u001b[1Gprogress is 75.24800019345703 %\u001b[1Gprogress is 75.32086429012756 %\u001b[1Gprogress is 75.39690334028847 %\u001b[1Gprogress is 75.47829501954634 %\u001b[1Gprogress is 75.55049095687757 %\u001b[1Gprogress is 75.6226868942088 %\u001b[1Gprogress is 75.70859757615013 %\u001b[1Gprogress is 75.78137734960723 %\u001b[1Gprogress is 75.85415712306433 %\u001b[1Gprogress is 75.93031563908143 %\u001b[1Gprogress is 76.01150061405306 %\u001b[1Gprogress is 76.08372808154044 %\u001b[1Gprogress is 76.15595554902784 %\u001b[1Gprogress is 76.24207760694165 %\u001b[1Gprogress is 76.31477371200461 %\u001b[1Gprogress is 76.38746981706755 %\u001b[1Gprogress is 76.4637517181104 %\u001b[1Gprogress is 76.54472753175078 %\u001b[1Gprogress is 76.61698771022279 %\u001b[1Gprogress is 76.6892478886948 %\u001b[1Gprogress is 76.77558846875723 %\u001b[1Gprogress is 76.84820039918844 %\u001b[1Gprogress is 76.92081232961964 %\u001b[1Gprogress is 76.9972236001737 %\u001b[1Gprogress is 77.0779846618533 %\u001b[1Gprogress is 77.15027931631546 %\u001b[1Gprogress is 77.22257397077762 %\u001b[1Gprogress is 77.30914394235899 %\u001b[1Gprogress is 77.38167001880784 %\u001b[1Gprogress is 77.45419609525666 %\u001b[1Gprogress is 77.5307451659178 %\u001b[1Gprogress is 77.61128243516966 %\u001b[1Gprogress is 77.68361403687005 %\u001b[1Gprogress is 77.75594563857044 %\u001b[1Gprogress is 77.84276029960108 %\u001b[1Gprogress is 77.91519759590093 %\u001b[1Gprogress is 77.98763489220079 %\u001b[1Gprogress is 78.06433322339629 %\u001b[1Gprogress is 78.14463366211653 %\u001b[1Gprogress is 78.21700557625431 %\u001b[1Gprogress is 78.28937749039207 %\u001b[1Gprogress is 78.37645765070053 %\u001b[1Gprogress is 78.4488018534159 %\u001b[1Gprogress is 78.52114605613124 %\u001b[1Gprogress is 78.59800901765117 %\u001b[1Gprogress is 78.67805473657921 %\u001b[1Gprogress is 78.7504715087337 %\u001b[1Gprogress is 78.82288828088818 %\u001b[1Gprogress is 78.91026190124035 %\u001b[1Gprogress is 78.98250709188214 %\u001b[1Gprogress is 79.05475228252392 %\u001b[1Gprogress is 79.13180048699775 %\u001b[1Gprogress is 79.2115674602835 %\u001b[1Gprogress is 79.28403525926808 %\u001b[1Gprogress is 79.35650305825266 %\u001b[1Gprogress is 79.4442077504018 %\u001b[1Gprogress is 79.51634609526728 %\u001b[1Gprogress is 79.58848444013275 %\u001b[1Gprogress is 79.66574580706876 %\u001b[1Gprogress is 79.74520194334447 %\u001b[1Gprogress is 79.81772926482816 %\u001b[1Gprogress is 79.89025658631185 %\u001b[1Gprogress is 79.97834351423093 %\u001b[1Gprogress is 80.05036484665146 %\u001b[1Gprogress is 80.12238617907198 %\u001b[1Gprogress is 80.19989923347984 %\u001b[1Gprogress is 80.27900144350865 %\u001b[1Gprogress is 80.35160027224356 %\u001b[1Gprogress is 80.42419910097848 %\u001b[1Gprogress is 80.51273928238416 %\u001b[1Gprogress is 80.58463057809655 %\u001b[1Gprogress is 80.65652187380893 %\u001b[1Gprogress is 80.73434124789378 %\u001b[1Gprogress is 80.81303087860971 %\u001b[1Gprogress is 80.88571870843019 %\u001b[1Gprogress is 80.95840653825069 %\u001b[1Gprogress is 81.04750150313134 %\u001b[1Gprogress is 81.1192463209424 %\u001b[1Gprogress is 81.19099113875343 %\u001b[1Gprogress is 81.26919726528608 %\u001b[1Gprogress is 81.34739275506652 %\u001b[1Gprogress is 81.42019633626217 %\u001b[1Gprogress is 81.49299991745781 %\u001b[1Gprogress is 81.58280084273038 %\u001b[1Gprogress is 81.65437906611662 %\u001b[1Gprogress is 81.72595728950287 %\u001b[1Gprogress is 81.80467472397292 %\u001b[1Gprogress is 81.88225931061912 %\u001b[1Gprogress is 81.95522221199322 %\u001b[1Gprogress is 82.02818511336733 %\u001b[1Gprogress is 82.11892993616618 %\u001b[1Gprogress is 82.19031912014907 %\u001b[1Gprogress is 82.26170830413196 %\u001b[1Gprogress is 82.34114368658778 %\u001b[1Gprogress is 82.41794390984619 %\u001b[1Gprogress is 82.49114357560998 %\u001b[1Gprogress is 82.56434324137378 %\u001b[1Gprogress is 82.65430217248989 %\u001b[1Gprogress is 82.72570669550042 %\u001b[1Gprogress is 82.79711121851095 %\u001b[1Gprogress is 82.87729242330303 %\u001b[1Gprogress is 82.95343116314835 %\u001b[1Gprogress is 83.0268968798216 %\u001b[1Gprogress is 83.10036259649486 %\u001b[1Gprogress is 83.18894984528666 %\u001b[1Gprogress is 83.260450034985 %\u001b[1Gprogress is 83.33195022468335 %\u001b[1Gprogress is 83.41278508854921 %\u001b[1Gprogress is 83.48842608732421 %\u001b[1Gprogress is 83.56214193254688 %\u001b[1Gprogress is 83.63585777776954 %\u001b[1Gprogress is 83.72334145139737 %\u001b[1Gprogress is 83.7949241784053 %\u001b[1Gprogress is 83.86650690541323 %\u001b[1Gprogress is 83.94792232593169 %\u001b[1Gprogress is 84.02315227400298 %\u001b[1Gprogress is 84.09710273971011 %\u001b[1Gprogress is 84.17105320541725 %\u001b[1Gprogress is 84.2575930487848 %\u001b[1Gprogress is 84.32924898322753 %\u001b[1Gprogress is 84.40090491767025 %\u001b[1Gprogress is 84.48285666054106 %\u001b[1Gprogress is 84.55772870648217 %\u001b[1Gprogress is 84.63190612512656 %\u001b[1Gprogress is 84.70608354377097 %\u001b[1Gprogress is 84.79177726507736 %\u001b[1Gprogress is 84.86350121166973 %\u001b[1Gprogress is 84.93522515826211 %\u001b[1Gprogress is 85.01769179663452 %\u001b[1Gprogress is 85.09223849234009 %\u001b[1Gprogress is 85.16664304915899 %\u001b[1Gprogress is 85.24104760597788 %\u001b[1Gprogress is 85.32595105425665 %\u001b[1Gprogress is 85.39774120461999 %\u001b[1Gprogress is 85.46953135498332 %\u001b[1Gprogress is 85.55251112745086 %\u001b[1Gprogress is 85.62675056375909 %\u001b[1Gprogress is 85.70099000006734 %\u001b[1Gprogress is 85.77563005629581 %\u001b[1Gprogress is 85.85991549968584 %\u001b[1Gprogress is 85.93176876696808 %\u001b[1Gprogress is 86.00362203425031 %\u001b[1Gprogress is 86.0870521847754 %\u001b[1Gprogress is 86.16103869903836 %\u001b[1Gprogress is 86.23502521330133 %\u001b[1Gprogress is 86.30987977726697 %\u001b[1Gprogress is 86.39367872741438 %\u001b[1Gprogress is 86.46558761573085 %\u001b[1Gprogress is 86.53749650404731 %\u001b[1Gprogress is 86.62130883420855 %\u001b[1Gprogress is 86.69509192898349 %\u001b[1Gprogress is 86.76887502375841 %\u001b[1Gprogress is 86.84391745821792 %\u001b[1Gprogress is 86.9273092817325 %\u001b[1Gprogress is 86.99926669858012 %\u001b[1Gprogress is 87.07122411542771 %\u001b[1Gprogress is 87.15536964115684 %\u001b[1Gprogress is 87.22898269225048 %\u001b[1Gprogress is 87.30259574334414 %\u001b[1Gprogress is 87.3778063795188 %\u001b[1Gprogress is 87.46084679450615 %\u001b[1Gprogress is 87.53284755993054 %\u001b[1Gprogress is 87.60484832535494 %\u001b[1Gprogress is 87.68929157284688 %\u001b[1Gprogress is 87.76275815771322 %\u001b[1Gprogress is 87.83622474257956 %\u001b[1Gprogress is 87.91158916308284 %\u001b[1Gprogress is 87.99431829618679 %\u001b[1Gprogress is 88.066358665173 %\u001b[1Gprogress is 88.13839903415922 %\u001b[1Gprogress is 88.22311420449668 %\u001b[1Gprogress is 88.2964513927041 %\u001b[1Gprogress is 88.3697885809115 %\u001b[1Gprogress is 88.4452963532645 %\u001b[1Gprogress is 88.52774342960113 %\u001b[1Gprogress is 88.59982073551113 %\u001b[1Gprogress is 88.67189804142114 %\u001b[1Gprogress is 88.7568665642743 %\u001b[1Gprogress is 88.83008686879256 %\u001b[1Gprogress is 88.90330717331084 %\u001b[1Gprogress is 88.97895100791183 %\u001b[1Gprogress is 89.0611372521651 %\u001b[1Gprogress is 89.13324967175946 %\u001b[1G"
     ]
    },
    {
     "name": "stdout",
     "output_type": "stream",
     "text": [
      "progress is 89.20536209135385 %\u001b[1Gprogress is 89.29057105374648 %\u001b[1Gprogress is 89.36368364978236 %\u001b[1Gprogress is 89.43679624581824 %\u001b[1Gprogress is 89.51257145109167 %\u001b[1Gprogress is 89.59451193670245 %\u001b[1Gprogress is 89.6666583410992 %\u001b[1Gprogress is 89.73880474549594 %\u001b[1Gprogress is 89.8242458918541 %\u001b[1Gprogress is 89.89725740161144 %\u001b[1Gprogress is 89.97026891136878 %\u001b[1Gprogress is 90.04617306159172 %\u001b[1Gprogress is 90.127877897438 %\u001b[1Gprogress is 90.20005776424449 %\u001b[1Gprogress is 90.27223763105098 %\u001b[1Gprogress is 90.35790676058558 %\u001b[1Gprogress is 90.43082176469247 %\u001b[1Gprogress is 90.50373676879936 %\u001b[1Gprogress is 90.57976953530923 %\u001b[1Gprogress is 90.66124460635554 %\u001b[1Gprogress is 90.73345797865667 %\u001b[1Gprogress is 90.8056713509578 %\u001b[1Gprogress is 90.89156801598826 %\u001b[1Gprogress is 90.96438938255976 %\u001b[1Gprogress is 91.03721074913128 %\u001b[1Gprogress is 91.11337387078451 %\u001b[1Gprogress is 91.19462125407759 %\u001b[1Gprogress is 91.26686873971728 %\u001b[1Gprogress is 91.33911622535697 %\u001b[1Gprogress is 91.42524368450388 %\u001b[1Gprogress is 91.49797276841977 %\u001b[1Gprogress is 91.57070185233567 %\u001b[1Gprogress is 91.64699924078265 %\u001b[1Gprogress is 91.72801736047569 %\u001b[1Gprogress is 91.80030017118648 %\u001b[1Gprogress is 91.87258298189727 %\u001b[1Gprogress is 91.95894840013297 %\u001b[1Gprogress is 92.03158514246623 %\u001b[1Gprogress is 92.1042218847995 %\u001b[1Gprogress is 92.18065987902386 %\u001b[1Gprogress is 92.26144342419931 %\u001b[1Gprogress is 92.3337634602307 %\u001b[1Gprogress is 92.40608349626208 %\u001b[1Gprogress is 92.4926984194969 %\u001b[1Gprogress is 92.56524136237566 %\u001b[1Gprogress is 92.6377843052544 %\u001b[1Gprogress is 92.71437211221033 %\u001b[1Gprogress is 92.7949117078505 %\u001b[1Gprogress is 92.86727170130727 %\u001b[1Gprogress is 92.93963169476403 %\u001b[1Gprogress is 93.02651286920218 %\u001b[1Gprogress is 93.09895909112721 %\u001b[1Gprogress is 93.17140531305225 %\u001b[1Gprogress is 93.24815570311218 %\u001b[1Gprogress is 93.32843728931 %\u001b[1Gprogress is 93.4008410307235 %\u001b[1Gprogress is 93.47324477213698 %\u001b[1Gprogress is 93.56041543983233 %\u001b[1Gprogress is 93.63276040816987 %\u001b[1Gprogress is 93.70510537650742 %\u001b[1Gprogress is 93.78203575377054 %\u001b[1Gprogress is 93.86203958234542 %\u001b[1Gprogress is 93.9344922738824 %\u001b[1Gprogress is 94.00694496541938 %\u001b[1Gprogress is 94.0944368669302 %\u001b[1Gprogress is 94.1666741976637 %\u001b[1Gprogress is 94.23891152839718 %\u001b[1Gprogress is 94.31604558521948 %\u001b[1Gprogress is 94.39574467346583 %\u001b[1Gprogress is 94.4682534866114 %\u001b[1Gprogress is 94.54076229975699 %\u001b[1Gprogress is 94.6286187907715 %\u001b[1Gprogress is 94.70073990154398 %\u001b[1Gprogress is 94.77286101231648 %\u001b[1Gprogress is 94.85023134358808 %\u001b[1Gprogress is 94.9295891099553 %\u001b[1Gprogress is 95.0021640922386 %\u001b[1Gprogress is 95.07473907452191 %\u001b[1Gprogress is 95.16302009552273 %\u001b[1Gprogress is 95.23501374316099 %\u001b[1Gprogress is 95.30700739079926 %\u001b[1Gprogress is 95.38465977187963 %\u001b[1Gprogress is 95.46362637512951 %\u001b[1Gprogress is 95.53628198902689 %\u001b[1Gprogress is 95.60893760292429 %\u001b[1Gprogress is 95.69772791084378 %\u001b[1Gprogress is 95.76957964071454 %\u001b[1Gprogress is 95.8414313705853 %\u001b[1Gprogress is 95.91943209799776 %\u001b[1Gprogress is 95.99793862365395 %\u001b[1Gprogress is 96.07069651148996 %\u001b[1Gprogress is 96.14345439932596 %\u001b[1Gprogress is 96.23287792329566 %\u001b[1Gprogress is 96.30456960024404 %\u001b[1Gprogress is 96.3762612771924 %\u001b[1Gprogress is 96.45471056660018 %\u001b[1Gprogress is 96.5326594688611 %\u001b[1Gprogress is 96.6055538011749 %\u001b[1Gprogress is 96.6784481334887 %\u001b[1Gprogress is 96.76869476015392 %\u001b[1Gprogress is 96.84020486882604 %\u001b[1Gprogress is 96.91171497749814 %\u001b[1Gprogress is 96.99077346023388 %\u001b[1Gprogress is 97.06802218019034 %\u001b[1Gprogress is 97.14111105303671 %\u001b[1Gprogress is 97.2141999258831 %\u001b[1Gprogress is 97.30499757580971 %\u001b[1Gprogress is 97.37636936664737 %\u001b[1Gprogress is 97.44774115748503 %\u001b[1Gprogress is 97.5275983342695 %\u001b[1Gprogress is 97.60403863415068 %\u001b[1Gprogress is 97.67740065576409 %\u001b[1Gprogress is 97.7507626773775 %\u001b[1Gprogress is 97.8399687983729 %\u001b[1Gprogress is 97.91144552883111 %\u001b[1Gprogress is 97.98292225928932 %\u001b[1Gprogress is 98.06349391114915 %\u001b[1Gprogress is 98.13936675834452 %\u001b[1Gprogress is 98.21299404944122 %\u001b[1Gprogress is 98.28662134053793 %\u001b[1Gprogress is 98.37459417131208 %\u001b[1Gprogress is 98.44616135736459 %\u001b[1Gprogress is 98.5177285434171 %\u001b[1Gprogress is 98.59892356580875 %\u001b[1Gprogress is 98.67434181248633 %\u001b[1Gprogress is 98.74821532753411 %\u001b[1Gprogress is 98.82208884258186 %\u001b[1Gprogress is 98.90903304204845 %\u001b[1Gprogress is 98.9806787569829 %\u001b[1Gprogress is 99.05232447191736 %\u001b[1Gprogress is 99.13408553986847 %\u001b[1Gprogress is 99.20911666269998 %\u001b[1Gprogress is 99.28322525942907 %\u001b[1Gprogress is 99.35733385615816 %\u001b[1Gprogress is 99.4433740767713 %\u001b[1Gprogress is 99.51509124802381 %\u001b[1Gprogress is 99.58680841927632 %\u001b[1Gprogress is 99.66910460197022 %\u001b[1Gprogress is 99.74379010792825 %\u001b[1Gprogress is 99.818130978143 %\u001b[1Gprogress is 99.89247184835777 %\u001b[1Gprogress is 99.9776818210555 %\u001b[1G"
     ]
    },
    {
     "ename": "LoadError",
     "evalue": "UndefVarError: xt_prf not defined",
     "output_type": "error",
     "traceback": [
      "UndefVarError: xt_prf not defined",
      ""
     ]
    }
   ],
   "source": [
    "(t_num, R_num, sw_prf_num)=forced_imb_impes(mu_water, mu_oil, u_inj, \n",
    "    poros, perm_ave, swc, sor, kro0, no,\n",
    "    krw0,nw, swi, 1.0, L_core, pv_inj2, Nx=500)\n",
    "visualizeCells(sw_prf_num)\n",
    "plot(xt_prf*t_anal[end], sw_prf)\n",
    "axis([0, L_core, 0, 1.0])\n",
    "legend([\"Numerical\", \"Analytical\"])\n",
    "xlabel(\"Core length [m]\")\n",
    "ylabel(\"Water saturation [-]\")\n",
    "IJulia.clear_output()"
   ]
  },
  {
   "cell_type": "markdown",
   "metadata": {},
   "source": [
    "Now, we can see that the numerical solution is very close to the analytical solution. This must give a better match for the recovery curves as well:"
   ]
  },
  {
   "cell_type": "code",
   "execution_count": 9,
   "metadata": {},
   "outputs": [
    {
     "ename": "LoadError",
     "evalue": "UndefVarError: mu_water not defined",
     "output_type": "error",
     "traceback": [
      "UndefVarError: mu_water not defined",
      ""
     ]
    }
   ],
   "source": [
    "# numerical solution (finite volume)\n",
    "(t_num, R_num, sw_prf)=forced_imb_impes(mu_water, mu_oil, u_inj, \n",
    "    poros, perm_ave, swc, sor, kro0, no,\n",
    "    krw0,nw, swi, 1.0, L_core, pv_inj, Nx=500)\n",
    "\n",
    "# Analytical solution (BL)\n",
    "(xt_shock, sw_shock, xt_prf, sw_prf, t_anal, p_inj, R_anal) = frac_flow_wf(\n",
    "  muw=mu_water, muo=mu_oil, ut=u_inj, phi=poros,\n",
    "  k=perm_ave, swc=swc, sor=sor, kro0=kro0, no=no, \n",
    "  krw0=krw0, nw=nw, sw0=swi, sw_inj=1.0, L=L_core, pv_inj=pv_inj)\n",
    "plot(t_anal, R_anal, \"o\", t_num, R_num)\n",
    "xlabel(\"time [s]\")\n",
    "ylabel(\"Recovery factor [-]\")\n",
    "axis([25000, 50000, 0.40, 0.5])\n",
    "IJulia.clear_output()"
   ]
  },
  {
   "cell_type": "markdown",
   "metadata": {},
   "source": [
    "## sensitivity analysis\n",
    "Effect of relperm parameters on the total recovery factor, compare to a base case:"
   ]
  },
  {
   "cell_type": "code",
   "execution_count": null,
   "metadata": {
    "collapsed": true
   },
   "outputs": [],
   "source": [
    "(t_num, R_num, sw_prf)=forced_imb_impes(mu_water, mu_oil, u_inj, \n",
    "    poros, perm_ave, swc, sor, kro0, no,\n",
    "    krw0,nw, swi, 1.0, L_core, pv_inj, Nx=500)\n",
    "\n",
    "# Analytical solution (BL)\n",
    "(xt_shock, sw_shock, xt_prf, sw_prf, t_anal, p_inj, R_anal) = frac_flow_wf(\n",
    "  muw=mu_water, muo=mu_oil, ut=u_inj, phi=poros,\n",
    "  k=perm_ave, swc=swc, sor=sor, kro0=kro0, no=no, \n",
    "  krw0=krw0, nw=nw, sw0=swi, sw_inj=1.0, L=L_core, pv_inj=pv_inj)\n",
    "plot(t_anal, R_anal, \"o\", t_num, R_num)\n",
    "xlabel(\"time [s]\")\n",
    "ylabel(\"Recovery factor [-]\")\n",
    "axis([25000, 50000, 0.40, 0.5])\n",
    "IJulia.clear_output()"
   ]
  },
  {
   "cell_type": "code",
   "execution_count": 1,
   "metadata": {},
   "outputs": [
    {
     "ename": "LoadError",
     "evalue": "UndefVarError: kro0 not defined",
     "output_type": "error",
     "traceback": [
      "UndefVarError: kro0 not defined",
      ""
     ]
    }
   ],
   "source": [
    "kro0"
   ]
  }
 ],
 "metadata": {
  "kernelspec": {
   "display_name": "Julia 0.5.2",
   "language": "julia",
   "name": "julia-0.5"
  },
  "language_info": {
   "file_extension": ".jl",
   "mimetype": "application/julia",
   "name": "julia",
   "version": "0.5.2"
  }
 },
 "nbformat": 4,
 "nbformat_minor": 2
}
